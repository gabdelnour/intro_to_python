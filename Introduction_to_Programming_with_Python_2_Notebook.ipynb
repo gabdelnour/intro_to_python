{
  "cells": [
    {
      "cell_type": "markdown",
      "metadata": {
        "id": "USgzh1u-7IAn"
      },
      "source": [
        "# Python Functions / Methods\n",
        "\n",
        "Here are various examples on how we can use functions / Methods in Python."
      ]
    },
    {
      "cell_type": "markdown",
      "metadata": {
        "id": "kDAlyoSp8Yvj"
      },
      "source": [
        "## Basic Function"
      ]
    },
    {
      "cell_type": "code",
      "execution_count": null,
      "metadata": {
        "colab": {
          "base_uri": "https://localhost:8080/"
        },
        "id": "-jMBD7Yz7rG-",
        "outputId": "4f46baf9-24e4-4e20-b8ab-b8993bb6ca29"
      },
      "outputs": [
        {
          "name": "stdout",
          "output_type": "stream",
          "text": [
            "Hello, World!\n"
          ]
        }
      ],
      "source": [
        "def greet():\n",
        "  print(\"Hello, Gusy!\")\n",
        "\n",
        "\n",
        "greet() # calling a function.\n"
      ]
    },
    {
      "cell_type": "markdown",
      "metadata": {
        "id": "nOLoTMAA8ezn"
      },
      "source": [
        "## Function With Parameters"
      ]
    },
    {
      "cell_type": "code",
      "execution_count": null,
      "metadata": {
        "colab": {
          "base_uri": "https://localhost:8080/"
        },
        "id": "d-BL4EnL8h_I",
        "outputId": "5892e7fc-3114-492a-a37e-0dcda1abdfca"
      },
      "outputs": [
        {
          "name": "stdout",
          "output_type": "stream",
          "text": [
            "8\n"
          ]
        }
      ],
      "source": [
        "def add_numbers(a, b): # parameters\n",
        "  return a + b\n",
        "\n",
        "result = add_numbers(5, 3) # arguments\n",
        "print(result)"
      ]
    },
    {
      "cell_type": "markdown",
      "metadata": {
        "id": "UWHEkJ-_8wzl"
      },
      "source": [
        "## Default Parameter Values"
      ]
    },
    {
      "cell_type": "code",
      "execution_count": null,
      "metadata": {
        "colab": {
          "base_uri": "https://localhost:8080/"
        },
        "id": "W03YYFyO86jV",
        "outputId": "521dd89d-e92e-44dc-ceb8-0947f605413d"
      },
      "outputs": [
        {
          "name": "stdout",
          "output_type": "stream",
          "text": [
            "Hello, Guest\n",
            "Hello, Alice\n"
          ]
        }
      ],
      "source": [
        "def greet(name=\"Guest\"):\n",
        "  print(f\"Hello, {name}\")\n",
        "\n",
        "greet()\n",
        "greet(\"Alice\")"
      ]
    },
    {
      "cell_type": "markdown",
      "metadata": {
        "id": "oWmfeA8h9Egh"
      },
      "source": [
        "##Return Multiple Values"
      ]
    },
    {
      "cell_type": "code",
      "execution_count": null,
      "metadata": {
        "colab": {
          "base_uri": "https://localhost:8080/"
        },
        "id": "4-Am-QoI9HCV",
        "outputId": "bebb8801-aeac-49e4-8f5b-58acd13d59ea"
      },
      "outputs": [
        {
          "name": "stdout",
          "output_type": "stream",
          "text": [
            "Square: 9\n",
            "Cube: 27\n"
          ]
        }
      ],
      "source": [
        "def get_square_and_cube(x):\n",
        "  return x ** 2, x ** 3\n",
        "\n",
        "square, cube = get_square_and_cube(3)\n",
        "print(\"Square:\", square)\n",
        "print(\"Cube:\", cube)"
      ]
    },
    {
      "cell_type": "markdown",
      "metadata": {
        "id": "IouZEmXn9GVT"
      },
      "source": [
        "## Variable Number of Arguments\n",
        "Handling variable number of arguments using `*args`"
      ]
    },
    {
      "cell_type": "code",
      "execution_count": null,
      "metadata": {
        "colab": {
          "base_uri": "https://localhost:8080/"
        },
        "id": "fRnOXUTX9hUe",
        "outputId": "7557802e-23ea-419f-b4e5-150ec591f5aa"
      },
      "outputs": [
        {
          "name": "stdout",
          "output_type": "stream",
          "text": [
            "<class 'tuple'>\n",
            "15\n",
            "<class 'tuple'>\n",
            "6\n"
          ]
        }
      ],
      "source": [
        "def add_all(*args):\n",
        "  print(type(args))\n",
        "  result = 0\n",
        "  for num in args:\n",
        "    result += num\n",
        "  return result\n",
        "\n",
        "result = add_all(1, 2, 3, 4, 5)\n",
        "print(result)\n",
        "\n",
        "result = add_all(1, 2, 3)\n",
        "print(result)"
      ]
    },
    {
      "cell_type": "markdown",
      "metadata": {
        "id": "iX87JWlM9gy0"
      },
      "source": [
        "## Keyword Arguments"
      ]
    },
    {
      "cell_type": "code",
      "execution_count": null,
      "metadata": {
        "colab": {
          "base_uri": "https://localhost:8080/"
        },
        "id": "2kl7uLOb9zVP",
        "outputId": "82e1c33e-5483-494d-b2cc-1fe9546b560b"
      },
      "outputs": [
        {
          "name": "stdout",
          "output_type": "stream",
          "text": [
            "Name: Alice, Age: 25\n"
          ]
        }
      ],
      "source": [
        "def display_info(name, age):\n",
        "  print(f\"Name: {name}, Age: {age}\")\n",
        "\n",
        "display_info(age=25, name=\"Alice\")"
      ]
    },
    {
      "cell_type": "markdown",
      "metadata": {
        "id": "yUCPmsRB-D5t"
      },
      "source": [
        "## Function within a Function\n",
        "Defining a function within another function. Unlike other languages this is allowed in Python."
      ]
    },
    {
      "cell_type": "code",
      "execution_count": null,
      "metadata": {
        "colab": {
          "base_uri": "https://localhost:8080/"
        },
        "id": "ONzVGBWp-Oki",
        "outputId": "73977c72-00dc-4e4a-fa5c-9f1375d8935b"
      },
      "outputs": [
        {
          "name": "stdout",
          "output_type": "stream",
          "text": [
            "6\n"
          ]
        }
      ],
      "source": [
        "def outer_function(x):\n",
        "  def inner_function(y):\n",
        "    return y * 2\n",
        "  return inner_function(x)\n",
        "\n",
        "result = outer_function(3)\n",
        "print(result)"
      ]
    },
    {
      "cell_type": "markdown",
      "metadata": {
        "id": "Mm8YCU1w_DFh"
      },
      "source": [
        "# Python Lists\n",
        "Here are all the examples on how lists works in Python, with commonly used list methods."
      ]
    },
    {
      "cell_type": "markdown",
      "metadata": {
        "id": "H5zcfqVw_gwF"
      },
      "source": [
        "## List Declaration and Initialization"
      ]
    },
    {
      "cell_type": "code",
      "execution_count": null,
      "metadata": {
        "colab": {
          "base_uri": "https://localhost:8080/"
        },
        "id": "B7Tjf6sq_27p",
        "outputId": "d9c73486-98ac-4942-cf06-1fd01c8e5955"
      },
      "outputs": [
        {
          "name": "stdout",
          "output_type": "stream",
          "text": [
            "[]\n",
            "[1, 2, 3, 4, 5]\n",
            "['apple', 'banana', 'cherry']\n",
            "[1, 'hello', 3.14, True]\n",
            "[[1, 2, 3], ['a', 'b', 'c']]\n"
          ]
        }
      ],
      "source": [
        "# Empty list\n",
        "empty_list = []\n",
        "\n",
        "# List with elements\n",
        "numbers = [1, 2, 3, 4, 5]\n",
        "fruits = [\"apple\", \"banana\", \"cherry\"]\n",
        "\n",
        "# Mixed-type list\n",
        "mixed_list = [1, \"hello\", 3.14, True]\n",
        "\n",
        "# Nested list\n",
        "nested_list = [[1, 2, 3], [\"a\", \"b\", \"c\"]]\n",
        "\n",
        "print(empty_list)\n",
        "print(numbers)\n",
        "print(fruits)\n",
        "print(mixed_list)\n",
        "print(nested_list)"
      ]
    },
    {
      "cell_type": "markdown",
      "metadata": {
        "id": "iIsqFZkoAE59"
      },
      "source": [
        "## Accessing Elements"
      ]
    },
    {
      "cell_type": "code",
      "execution_count": null,
      "metadata": {
        "colab": {
          "base_uri": "https://localhost:8080/"
        },
        "id": "EOzh8XDLALHV",
        "outputId": "046f51de-d39a-4d5d-d39e-a89d7f17c645"
      },
      "outputs": [
        {
          "name": "stdout",
          "output_type": "stream",
          "text": [
            "1\n",
            "5\n",
            "3\n"
          ]
        }
      ],
      "source": [
        "numbers = [1, 2, 3, 4, 5]\n",
        "\n",
        "# Accessing elements by index\n",
        "print(numbers[0])  # Output: 1\n",
        "print(numbers[-1])  # Output: 5\n",
        "print(numbers[2])"
      ]
    },
    {
      "cell_type": "markdown",
      "metadata": {
        "id": "i_e_BvhVAWz8"
      },
      "source": [
        "## Iterating over a list"
      ]
    },
    {
      "cell_type": "code",
      "execution_count": null,
      "metadata": {
        "colab": {
          "base_uri": "https://localhost:8080/"
        },
        "id": "WXL7ZlApAY_H",
        "outputId": "d69c6eb8-437e-49b7-e656-5ad0ab32b7f4"
      },
      "outputs": [
        {
          "name": "stdout",
          "output_type": "stream",
          "text": [
            "apple\n",
            "banana\n",
            "cherry\n",
            "kiwi\n",
            "\n",
            "For loop via index based:\n",
            "\n",
            "apple\n",
            "banana\n",
            "cherry\n",
            "kiwi\n"
          ]
        }
      ],
      "source": [
        "my_list = [\"apple\", \"banana\", \"cherry\", \"kiwi\"]\n",
        "\n",
        "for element in my_list:\n",
        "  print(element)\n",
        "\n",
        "\n",
        "print(\"\\nFor loop via index based:\\n\")\n",
        "for i in range(len(my_list)):\n",
        "  print(my_list[i])"
      ]
    },
    {
      "cell_type": "markdown",
      "metadata": {
        "id": "Le43A93-Ax1_"
      },
      "source": [
        "## List Concatenation and Repetition"
      ]
    },
    {
      "cell_type": "code",
      "execution_count": null,
      "metadata": {
        "colab": {
          "base_uri": "https://localhost:8080/"
        },
        "id": "p5wYknShA01C",
        "outputId": "3a23340e-9d12-4de0-aadf-eb8f90121ca2"
      },
      "outputs": [
        {
          "name": "stdout",
          "output_type": "stream",
          "text": [
            "[1, 2, 3, 4, 5, 6]\n",
            "[1, 2, 3, 1, 2, 3, 1, 2, 3]\n"
          ]
        }
      ],
      "source": [
        "list1 = [1, 2, 3]\n",
        "list2 = [4, 5, 6]\n",
        "\n",
        "# Concatenation\n",
        "combined_list = list1 + list2\n",
        "print(combined_list)\n",
        "\n",
        "repeated_list = list1 * 3\n",
        "print(repeated_list)"
      ]
    },
    {
      "cell_type": "markdown",
      "metadata": {
        "id": "6_kO40zdA-DX"
      },
      "source": [
        "## List Comprehensions"
      ]
    },
    {
      "cell_type": "code",
      "execution_count": null,
      "metadata": {
        "colab": {
          "base_uri": "https://localhost:8080/"
        },
        "id": "_jb_cnnoBCzj",
        "outputId": "df861128-e87a-43d1-eb20-064316b3d550"
      },
      "outputs": [
        {
          "name": "stdout",
          "output_type": "stream",
          "text": [
            "[1, 4, 9, 16, 25]\n"
          ]
        }
      ],
      "source": [
        "# Squares of numbers from 1 to 5\n",
        "squares = [x**2 for x in range(1, 6)]\n",
        "print(squares)  # Output: [1, 4, 9, 16, 25]"
      ]
    },
    {
      "cell_type": "markdown",
      "metadata": {
        "id": "Izt4G8GRBJ0W"
      },
      "source": [
        "## List Slicing"
      ]
    },
    {
      "cell_type": "code",
      "execution_count": null,
      "metadata": {
        "colab": {
          "base_uri": "https://localhost:8080/"
        },
        "id": "Cr0fdc4bBLZN",
        "outputId": "34e8ce61-b439-483d-db51-a4b803891d4e"
      },
      "outputs": [
        {
          "name": "stdout",
          "output_type": "stream",
          "text": [
            "[2, 3, 4]\n"
          ]
        }
      ],
      "source": [
        "numbers = [1, 2, 3, 4, 5]\n",
        "\n",
        "# Slicing\n",
        "print(numbers[1:4])  # Output: [2, 3, 4]"
      ]
    },
    {
      "cell_type": "markdown",
      "metadata": {
        "id": "IVPXLc9yBQ4P"
      },
      "source": [
        "## Membership Testing"
      ]
    },
    {
      "cell_type": "code",
      "execution_count": null,
      "metadata": {
        "colab": {
          "base_uri": "https://localhost:8080/"
        },
        "id": "pDK7uGR-BXMz",
        "outputId": "c6420f35-9dcd-4f9a-8e21-14ca7a85c7ee"
      },
      "outputs": [
        {
          "name": "stdout",
          "output_type": "stream",
          "text": [
            "True\n",
            "False\n"
          ]
        }
      ],
      "source": [
        "numbers = [1, 2, 3, 4, 5]\n",
        "\n",
        "# Check if an element is in the list\n",
        "is_3_present = 3 in numbers # This gives a boolean value if present gives True else would give False\n",
        "print(is_3_present)  # Output: True\n",
        "\n",
        "is_7_present = 7 in numbers\n",
        "print(is_7_present)\n"
      ]
    },
    {
      "cell_type": "markdown",
      "metadata": {
        "id": "K_71wqGsBnVp"
      },
      "source": [
        "## List Methods"
      ]
    },
    {
      "cell_type": "code",
      "execution_count": null,
      "metadata": {
        "colab": {
          "base_uri": "https://localhost:8080/"
        },
        "id": "ABx3AQnhBrCU",
        "outputId": "82f0f097-95b7-4a7a-de67-cb83af3e1096"
      },
      "outputs": [
        {
          "name": "stdout",
          "output_type": "stream",
          "text": [
            "[1, 2, 3, 4]\n",
            "[1, 2, 3, 4, 5, 6]\n",
            "[1, 2, 99, 3, 4, 5, 6]\n",
            "[1, 2, 99, 4, 5, 6]\n",
            "6\n",
            "[1, 2, 99, 4, 5]\n",
            "2\n",
            "1\n",
            "[1, 2, 4, 5, 99]\n",
            "[99, 5, 4, 2, 1]\n"
          ]
        }
      ],
      "source": [
        "# Append\n",
        "numbers = [1, 2, 3]\n",
        "numbers.append(4)\n",
        "print(numbers)  # Output: [1, 2, 3, 4]\n",
        "\n",
        "\n",
        "\n",
        "# Extend\n",
        "numbers.extend([5, 6])\n",
        "print(numbers)  # Output: [1, 2, 3, 4, 5, 6]\n",
        "\n",
        "\n",
        "\n",
        "# Insert\n",
        "numbers.insert(2, 99)\n",
        "print(numbers)  # Output: [1, 2, 99, 3, 4, 5, 6]\n",
        "\n",
        "\n",
        "\n",
        "# Remove\n",
        "numbers.remove(3)\n",
        "print(numbers)  # Output: [1, 2, 99, 4, 5, 6]\n",
        "\n",
        "\n",
        "\n",
        "# Pop\n",
        "popped = numbers.pop()\n",
        "print(popped)   # Output: 6\n",
        "print(numbers)  # Output: [1, 2, 99, 4, 5]\n",
        "\n",
        "\n",
        "\n",
        "# Index\n",
        "index = numbers.index(99)\n",
        "print(index)    # Output: 2\n",
        "\n",
        "\n",
        "\n",
        "# Count\n",
        "count = numbers.count(4)\n",
        "print(count)    # Output: 1\n",
        "\n",
        "\n",
        "\n",
        "# Sort\n",
        "numbers.sort()\n",
        "print(numbers)  # Output: [1, 2, 4, 5, 99]\n",
        "\n",
        "\n",
        "\n",
        "# Reverse\n",
        "numbers.reverse()\n",
        "print(numbers)  # Output: [99, 5, 4, 2, 1]\n",
        "\n",
        "\n",
        "\n",
        "# Copy\n",
        "numbers_copy = numbers.copy()\n"
      ]
    },
    {
      "cell_type": "markdown",
      "metadata": {
        "id": "JScPqPvOCR8T"
      },
      "source": [
        "## Coding Questions"
      ]
    },
    {
      "cell_type": "markdown",
      "metadata": {
        "id": "5Rqv87X4CWHu"
      },
      "source": [
        "### Filter Even Numbers\n",
        "Write a function that takes a list and returns a new list containing only the even numbers from the original list"
      ]
    },
    {
      "cell_type": "code",
      "execution_count": null,
      "metadata": {
        "colab": {
          "base_uri": "https://localhost:8080/"
        },
        "id": "jiQTyD0mCgks",
        "outputId": "940dace9-1bab-4773-c809-12a5782223f0"
      },
      "outputs": [
        {
          "name": "stdout",
          "output_type": "stream",
          "text": [
            "[2, 4, 6, 8, 10]\n"
          ]
        }
      ],
      "source": [
        "def filter_even_numbers(numbers):\n",
        "  even_numbers = []\n",
        "  for number in numbers:\n",
        "    if number % 2 == 0:\n",
        "      even_numbers.append(number)\n",
        "  return even_numbers\n",
        "\n",
        "# Example usage:\n",
        "original_list = [1, 2, 3, 4, 5, 6, 7, 8, 9, 10]\n",
        "result_list = filter_even_numbers(original_list)\n",
        "print(result_list)  # Expected output: [2, 4, 6, 8, 10]\n"
      ]
    },
    {
      "cell_type": "markdown",
      "metadata": {
        "id": "FnTX5InzC2ZM"
      },
      "source": [
        "### Greet People differently\n",
        "Write a function that takes two parameters - a list of names and a default greeting message. The function should print a personalized greeting for each name using the provided or default greeting."
      ]
    },
    {
      "cell_type": "code",
      "execution_count": null,
      "metadata": {
        "colab": {
          "base_uri": "https://localhost:8080/"
        },
        "id": "ysVlbiBKDM0g",
        "outputId": "2196c4c5-d6f2-4d2c-e76a-24c91713ebe2"
      },
      "outputs": [
        {
          "name": "stdout",
          "output_type": "stream",
          "text": [
            "Hello, Alice\n",
            "Hello, Bob\n",
            "Hello, Charlie\n",
            "Hi, Alice\n",
            "Hi, Bob\n",
            "Hi, Charlie\n"
          ]
        }
      ],
      "source": [
        "def greet_people(names, greeting=\"Hello\"):\n",
        "  for name in names:\n",
        "    print(f\"{greeting}, {name}\")\n",
        "\n",
        "# Example usage:\n",
        "name_list = [\"Alice\", \"Bob\", \"Charlie\"]\n",
        "greet_people(name_list)  # Should print default greetings\n",
        "greet_people(name_list, \"Hi\")  # Should print personalized greetings with \"Hi\"\n"
      ]
    },
    {
      "cell_type": "markdown",
      "metadata": {
        "id": "nqLW9jCuDae-"
      },
      "source": [
        "### Average of given numbers\n",
        "Write a function called average that takes a variable number of arguments and returns the average of those arguments.\n",
        "\n"
      ]
    },
    {
      "cell_type": "code",
      "execution_count": null,
      "metadata": {
        "colab": {
          "base_uri": "https://localhost:8080/"
        },
        "id": "RycKOyINDjWB",
        "outputId": "4d483b5e-b7bc-4f9f-d9b0-c5ca4e7e02c7"
      },
      "outputs": [
        {
          "name": "stdout",
          "output_type": "stream",
          "text": [
            "3.0\n"
          ]
        }
      ],
      "source": [
        "def average(*args):\n",
        "  sum = 0\n",
        "  for arg in args:\n",
        "    sum += arg\n",
        "  return sum / len(args)\n",
        "\n",
        "# Example usage:\n",
        "result = average(1, 2, 3, 4, 5)\n",
        "print(result)  # Expected output: 3.0\n"
      ]
    },
    {
      "cell_type": "markdown",
      "metadata": {
        "id": "YwkR8C0FFUng"
      },
      "source": [
        "### Find Duplicates\n",
        "Write a program to find whether the list has duplicates or not."
      ]
    },
    {
      "cell_type": "code",
      "execution_count": null,
      "metadata": {
        "colab": {
          "base_uri": "https://localhost:8080/"
        },
        "id": "8vmuAiK1FfKe",
        "outputId": "3073c096-233c-4ca8-ebcf-ee6d1083e578"
      },
      "outputs": [
        {
          "name": "stdout",
          "output_type": "stream",
          "text": [
            "False\n"
          ]
        }
      ],
      "source": [
        "def find_dup(my_list):\n",
        "  for item in my_list:\n",
        "    if my_list.count(item) > 1:\n",
        "      return True\n",
        "  return False\n",
        "\n",
        "my_list = [1,2,3,4,9,10,15]\n",
        "print(find_dup(my_list))"
      ]
    },
    {
      "cell_type": "markdown",
      "metadata": {
        "id": "M-0fKwcPEHhh"
      },
      "source": [
        "# Python Strings\n",
        "Here are the examples on how Strings are in Python and commonly used string methods."
      ]
    },
    {
      "cell_type": "markdown",
      "metadata": {
        "id": "BjXRbFPWGhz9"
      },
      "source": [
        "## String Declaration and Concatenation"
      ]
    },
    {
      "cell_type": "code",
      "execution_count": null,
      "metadata": {
        "colab": {
          "base_uri": "https://localhost:8080/"
        },
        "id": "4vu75DKNG0Ch",
        "outputId": "e0f1914e-4425-4f7f-913b-7de82c14c6f5"
      },
      "outputs": [
        {
          "name": "stdout",
          "output_type": "stream",
          "text": [
            "Hello World\n"
          ]
        }
      ],
      "source": [
        "# String Declaration\n",
        "string1 = \"Hello\"\n",
        "string2 = 'World'\n",
        "\n",
        "# String Concatenation\n",
        "result = string1 + \" \" + string2\n",
        "print(result)  # Output: Hello World\n"
      ]
    },
    {
      "cell_type": "markdown",
      "metadata": {
        "id": "P1SO3r85G3s5"
      },
      "source": [
        "##  String Indexing and Slicing"
      ]
    },
    {
      "cell_type": "code",
      "execution_count": null,
      "metadata": {
        "colab": {
          "base_uri": "https://localhost:8080/"
        },
        "id": "SYGMGuqrG88k",
        "outputId": "f106d125-ab60-4caf-d2f3-b8770666e20e"
      },
      "outputs": [
        {
          "name": "stdout",
          "output_type": "stream",
          "text": [
            "first char: P\n",
            "last char: n\n",
            "substring: yth\n"
          ]
        }
      ],
      "source": [
        "my_string = \"Python\"\n",
        "\n",
        "# Indexing\n",
        "first_char = my_string[0]\n",
        "last_char = my_string[-1]\n",
        "\n",
        "# Slicing\n",
        "substring = my_string[1:4]  # Gets characters from index 1 to 3\n",
        "print(\"first char:\", first_char)\n",
        "print(\"last char:\", last_char)\n",
        "print(\"substring:\", substring)  # Output: P n yth\n"
      ]
    },
    {
      "cell_type": "markdown",
      "metadata": {
        "id": "FVjBIb8iHYn1"
      },
      "source": [
        "## String Length"
      ]
    },
    {
      "cell_type": "code",
      "execution_count": null,
      "metadata": {
        "colab": {
          "base_uri": "https://localhost:8080/"
        },
        "id": "D0L98ZGdHbD-",
        "outputId": "ecacd361-a8c4-4a2a-c879-643f0b0caee7"
      },
      "outputs": [
        {
          "name": "stdout",
          "output_type": "stream",
          "text": [
            "13\n"
          ]
        }
      ],
      "source": [
        "my_string = \"Hello, World!\"\n",
        "\n",
        "length = len(my_string)\n",
        "print(length)  # Output: 13\n"
      ]
    },
    {
      "cell_type": "markdown",
      "metadata": {
        "id": "xk814KCGHc7C"
      },
      "source": [
        "## String Methods"
      ]
    },
    {
      "cell_type": "code",
      "execution_count": null,
      "metadata": {
        "colab": {
          "base_uri": "https://localhost:8080/"
        },
        "id": "kXtQVYYTHh-y",
        "outputId": "a64f86f7-d176-4132-8f4f-0903f4437b7d"
      },
      "outputs": [
        {
          "name": "stdout",
          "output_type": "stream",
          "text": [
            "Hello, World!\n",
            "   hello, world!   \n",
            "   HELLO, WORLD!   \n",
            "   Hi, World!   \n"
          ]
        }
      ],
      "source": [
        "my_string = \"   Hello, World!   \"\n",
        "\n",
        "# Strip whitespace\n",
        "stripped_string = my_string.strip()\n",
        "\n",
        "# Convert to lowercase and uppercase\n",
        "lowercase = my_string.lower()\n",
        "uppercase = my_string.upper()\n",
        "\n",
        "# Replace\n",
        "new_string = my_string.replace(\"Hello\", \"Hi\")\n",
        "\n",
        "print(stripped_string)\n",
        "print(lowercase)\n",
        "print(uppercase)\n",
        "print(new_string)"
      ]
    },
    {
      "cell_type": "markdown",
      "metadata": {
        "id": "4QBorJfyH62M"
      },
      "source": [
        "### Count Substring occurrences"
      ]
    },
    {
      "cell_type": "code",
      "execution_count": null,
      "metadata": {
        "colab": {
          "base_uri": "https://localhost:8080/"
        },
        "id": "JZJMXMT_H-NM",
        "outputId": "c42e66c1-e60e-4869-ebba-e0be5b58f133"
      },
      "outputs": [
        {
          "name": "stdout",
          "output_type": "stream",
          "text": [
            "3\n"
          ]
        }
      ],
      "source": [
        "my_string = \"abracadabraarar\"\n",
        "substring = \"ra\"\n",
        "\n",
        "# Count occurrences of a substring\n",
        "count_occurrences = my_string.count(substring)\n",
        "\n",
        "print(count_occurrences)  # Output: 2\n"
      ]
    },
    {
      "cell_type": "markdown",
      "metadata": {
        "id": "LjDIvI8CIAa-"
      },
      "source": [
        "### Check Start and End"
      ]
    },
    {
      "cell_type": "code",
      "execution_count": null,
      "metadata": {
        "colab": {
          "base_uri": "https://localhost:8080/"
        },
        "id": "VT9SU95VIJJ8",
        "outputId": "83233213-4dba-4e90-f634-82f18764b58b"
      },
      "outputs": [
        {
          "name": "stdout",
          "output_type": "stream",
          "text": [
            "True True\n"
          ]
        }
      ],
      "source": [
        "my_string = \"Hello, World!\"\n",
        "\n",
        "# Check if the string starts or ends with a specific substring\n",
        "starts_with_hello = my_string.startswith(\"Hello\")\n",
        "ends_with_world = my_string.endswith(\"World!\")\n",
        "\n",
        "print(starts_with_hello, ends_with_world)  # Output: True True"
      ]
    },
    {
      "cell_type": "markdown",
      "metadata": {
        "id": "r-FbK_5wIOq8"
      },
      "source": [
        "### Check Character Types"
      ]
    },
    {
      "cell_type": "code",
      "execution_count": null,
      "metadata": {
        "colab": {
          "base_uri": "https://localhost:8080/"
        },
        "id": "dZlf-KQZIhTS",
        "outputId": "9e4ff660-b5bc-466c-9fc1-e13e129cbb80"
      },
      "outputs": [
        {
          "name": "stdout",
          "output_type": "stream",
          "text": [
            "True False False\n"
          ]
        }
      ],
      "source": [
        "my_string = \"abc123\"\n",
        "\n",
        "# Check if all characters are alphanumeric\n",
        "is_alphanumeric = my_string.isalnum()\n",
        "\n",
        "# Check if all characters are alphabetic\n",
        "is_alpha = my_string.isalpha()\n",
        "\n",
        "# Check if all characters are digits\n",
        "is_digit = my_string.isdigit()\n",
        "\n",
        "print(is_alphanumeric, is_alpha, is_digit)  # Output: True False False\n"
      ]
    },
    {
      "cell_type": "markdown",
      "metadata": {
        "id": "c3DW0-gdIkL0"
      },
      "source": [
        "### String Capitalization"
      ]
    },
    {
      "cell_type": "code",
      "execution_count": null,
      "metadata": {
        "colab": {
          "base_uri": "https://localhost:8080/"
        },
        "id": "3ysAN-xfIrXX",
        "outputId": "85ede9af-d5b7-40ae-b01b-e42a472faa74"
      },
      "outputs": [
        {
          "name": "stdout",
          "output_type": "stream",
          "text": [
            "Hello world Hello World\n"
          ]
        }
      ],
      "source": [
        "my_string = \"hello world\"\n",
        "\n",
        "# Capitalize the first letter\n",
        "capitalized_string = my_string.capitalize()\n",
        "\n",
        "# Title case (capitalize the first letter of each word)\n",
        "title_case_string = my_string.title()\n",
        "\n",
        "print(capitalized_string, title_case_string)"
      ]
    },
    {
      "cell_type": "markdown",
      "metadata": {
        "id": "ywn1irPlIuJV"
      },
      "source": []
    },
    {
      "cell_type": "markdown",
      "metadata": {
        "id": "BdABgQfmJYP-"
      },
      "source": [
        "## String Formatting (f-strings)"
      ]
    },
    {
      "cell_type": "code",
      "execution_count": null,
      "metadata": {
        "colab": {
          "base_uri": "https://localhost:8080/"
        },
        "id": "QlRRPhA8Jcf1",
        "outputId": "bd3e7794-c897-4fe3-de41-b027dd59f34c"
      },
      "outputs": [
        {
          "name": "stdout",
          "output_type": "stream",
          "text": [
            "My name is Alice and I am 30 years old.\n"
          ]
        }
      ],
      "source": [
        "name = \"Alice\"\n",
        "age = 30\n",
        "\n",
        "# Using f-strings\n",
        "formatted_string = f\"My name is {name} and I am {age} years old.\"\n",
        "\n",
        "print(formatted_string)\n"
      ]
    },
    {
      "cell_type": "markdown",
      "metadata": {
        "id": "5xtnL-sAJet3"
      },
      "source": [
        "## String Splitting and Joining"
      ]
    },
    {
      "cell_type": "code",
      "execution_count": null,
      "metadata": {
        "colab": {
          "base_uri": "https://localhost:8080/"
        },
        "id": "pBBpNt0QJjxU",
        "outputId": "582a7e85-39fa-437f-f5ea-4bd07e351478"
      },
      "outputs": [
        {
          "name": "stdout",
          "output_type": "stream",
          "text": [
            "['apple', 'orange', 'banana']\n",
            "apple-orange-banana\n"
          ]
        }
      ],
      "source": [
        "my_string = \"apple,orange,banana\"\n",
        "\n",
        "# Split string into a list\n",
        "fruits_list = my_string.split(',')\n",
        "\n",
        "# Join list elements into a string\n",
        "new_string = '-'.join(fruits_list)\n",
        "\n",
        "print(fruits_list)\n",
        "print(new_string)\n"
      ]
    },
    {
      "cell_type": "markdown",
      "metadata": {
        "id": "v273d6lsJo22"
      },
      "source": [
        "## Checking Substrings"
      ]
    },
    {
      "cell_type": "code",
      "execution_count": null,
      "metadata": {
        "colab": {
          "base_uri": "https://localhost:8080/"
        },
        "id": "ZXkp_vwOJrpp",
        "outputId": "101bc2f0-2116-48f2-cb2f-bd4ae55865c7"
      },
      "outputs": [
        {
          "name": "stdout",
          "output_type": "stream",
          "text": [
            "True 10\n"
          ]
        }
      ],
      "source": [
        "sentence = \"The quick brown fox jumps over the lazy dog\"\n",
        "\n",
        "# Check if a substring is present\n",
        "contains_fox = \"fox\" in sentence\n",
        "\n",
        "# Find the index of a substring\n",
        "index_of_brown = sentence.find(\"brown\")\n",
        "\n",
        "print(contains_fox, index_of_brown)\n"
      ]
    },
    {
      "cell_type": "markdown",
      "metadata": {
        "id": "xeCmnw6sJtQU"
      },
      "source": [
        "## String Formatting with %"
      ]
    },
    {
      "cell_type": "code",
      "execution_count": null,
      "metadata": {
        "colab": {
          "base_uri": "https://localhost:8080/"
        },
        "id": "_rzT1M6zJzEj",
        "outputId": "94067325-20fe-43bc-9a2e-2e7deb8dd485"
      },
      "outputs": [
        {
          "name": "stdout",
          "output_type": "stream",
          "text": [
            "My name is Bob and I am 25 years old.\n"
          ]
        }
      ],
      "source": [
        "name = \"Bob\"\n",
        "age = 25\n",
        "\n",
        "# Using % for formatting\n",
        "formatted_string = \"My name is %s and I am %d years old.\" % (name, age)\n",
        "\n",
        "print(formatted_string)\n"
      ]
    },
    {
      "cell_type": "markdown",
      "metadata": {
        "id": "zGjStjvqJ3dU"
      },
      "source": [
        "## String formatting with `format`"
      ]
    },
    {
      "cell_type": "code",
      "execution_count": null,
      "metadata": {
        "colab": {
          "base_uri": "https://localhost:8080/"
        },
        "id": "O6cIp4uVJ9CM",
        "outputId": "5864cc64-1016-41ac-f846-5289ece8cab0"
      },
      "outputs": [
        {
          "name": "stdout",
          "output_type": "stream",
          "text": [
            "My name is Alice and I am 30 years old.\n"
          ]
        }
      ],
      "source": [
        "name = \"Alice\"\n",
        "age = 30\n",
        "\n",
        "# Using the format method for string formatting\n",
        "formatted_string = \"My name is {} and I am {} years old.\".format(name, age)\n",
        "\n",
        "print(formatted_string)\n"
      ]
    },
    {
      "cell_type": "markdown",
      "metadata": {
        "id": "UzmfC2zZKOXA"
      },
      "source": [
        "## Escape Characters\n",
        "Escape characters in Python are special characters preceded by a backslash (\\) that are used to represent characters that are difficult to input directly or might be misinterpreted. Here are some commonly used escape characters along with examples:"
      ]
    },
    {
      "cell_type": "markdown",
      "metadata": {
        "id": "jczyyvWRKYVC"
      },
      "source": [
        "### NewLine (`\\n`)\n",
        "Inserts a newline character"
      ]
    },
    {
      "cell_type": "code",
      "execution_count": null,
      "metadata": {
        "colab": {
          "base_uri": "https://localhost:8080/"
        },
        "id": "LRrwKrklKd40",
        "outputId": "c757c973-d326-412e-87d1-d7e6f2689d2b"
      },
      "outputs": [
        {
          "name": "stdout",
          "output_type": "stream",
          "text": [
            "This is a line.\n",
            "This is a new line.\n"
          ]
        }
      ],
      "source": [
        "multiline_string = \"This is a line.\\nThis is a new line.\"\n",
        "print(multiline_string)\n"
      ]
    },
    {
      "cell_type": "markdown",
      "metadata": {
        "id": "pfPDc06cKfds"
      },
      "source": [
        "### Tab (`\\t`)\n",
        "Inserts a tab character"
      ]
    },
    {
      "cell_type": "code",
      "execution_count": null,
      "metadata": {
        "colab": {
          "base_uri": "https://localhost:8080/"
        },
        "id": "VGJ3KgZ-Ki8k",
        "outputId": "d2da0e34-6029-406a-b562-b2b433cc678f"
      },
      "outputs": [
        {
          "name": "stdout",
          "output_type": "stream",
          "text": [
            "This is a\ttabbed line.\n"
          ]
        }
      ],
      "source": [
        "indented_string = \"This is a\\ttabbed line.\"\n",
        "print(indented_string)"
      ]
    },
    {
      "cell_type": "markdown",
      "metadata": {
        "id": "KuKX8D6vKmed"
      },
      "source": [
        "### Backslash (`\\\\`)\n",
        "Inserts a literal backslash"
      ]
    },
    {
      "cell_type": "code",
      "execution_count": null,
      "metadata": {
        "colab": {
          "base_uri": "https://localhost:8080/"
        },
        "id": "GW_Lk2W5KsNy",
        "outputId": "6f8774da-309b-4642-b0b2-9a92a68081c9"
      },
      "outputs": [
        {
          "name": "stdout",
          "output_type": "stream",
          "text": [
            "This is a backslash: \\\n"
          ]
        }
      ],
      "source": [
        "backslash_string = \"This is a backslash: \\\\\"\n",
        "print(backslash_string)\n"
      ]
    },
    {
      "cell_type": "markdown",
      "metadata": {
        "id": "OImpzhH1K5KA"
      },
      "source": [
        "### Single Quote (\\') and Double Quote (\\\"):\n",
        "Inserts a literal single quote or double quote."
      ]
    },
    {
      "cell_type": "code",
      "execution_count": null,
      "metadata": {
        "colab": {
          "base_uri": "https://localhost:8080/"
        },
        "id": "fKKWIu0rLHQs",
        "outputId": "1f280c44-f755-44b4-eb9b-0d21c44a4c61"
      },
      "outputs": [
        {
          "name": "stdout",
          "output_type": "stream",
          "text": [
            "He said, 'Hello!'\n",
            "She said, \"Hi!\"\n"
          ]
        }
      ],
      "source": [
        "single_quote_string = 'He said, \\'Hello!\\''\n",
        "double_quote_string = \"She said, \\\"Hi!\\\"\"\n",
        "print(single_quote_string)\n",
        "print(double_quote_string)\n"
      ]
    },
    {
      "cell_type": "markdown",
      "metadata": {
        "id": "UahAj7nTLMlf"
      },
      "source": [
        "### Raw Strings (r or R prefix):\n",
        "Treats backslashes as literal characters, useful for regular expressions."
      ]
    },
    {
      "cell_type": "code",
      "execution_count": null,
      "metadata": {
        "colab": {
          "base_uri": "https://localhost:8080/"
        },
        "id": "xN0P2SPnLPSG",
        "outputId": "69ee7279-d264-4495-9b97-fa344393f069"
      },
      "outputs": [
        {
          "name": "stdout",
          "output_type": "stream",
          "text": [
            "This is a raw string.\\nIt won't interpret escape characters.\n"
          ]
        }
      ],
      "source": [
        "raw_string = r\"This is a raw string.\\nIt won't interpret escape characters.\"\n",
        "print(raw_string)\n"
      ]
    },
    {
      "cell_type": "markdown",
      "metadata": {
        "id": "fOANDYMeLge7"
      },
      "source": [
        "# Python Tuples\n",
        "Here are the examples and usage of Tuples"
      ]
    },
    {
      "cell_type": "markdown",
      "metadata": {
        "id": "HKW_D6ahNO10"
      },
      "source": [
        "## Tuple Declaration and Access"
      ]
    },
    {
      "cell_type": "code",
      "execution_count": null,
      "metadata": {
        "colab": {
          "base_uri": "https://localhost:8080/"
        },
        "id": "lr57-YgUNjNB",
        "outputId": "b5ca7a63-b0dc-4d68-f3e6-712975b4e55b"
      },
      "outputs": [
        {
          "name": "stdout",
          "output_type": "stream",
          "text": [
            "1 banana\n"
          ]
        }
      ],
      "source": [
        "# Tuple Declaration\n",
        "my_tuple = (1, 2, 3, \"apple\", \"banana\")\n",
        "\n",
        "# Accessing elements\n",
        "first_element = my_tuple[0]\n",
        "last_element = my_tuple[-1]\n",
        "\n",
        "print(first_element, last_element)  # Output: 1 banana\n"
      ]
    },
    {
      "cell_type": "markdown",
      "metadata": {
        "id": "VGZ2MGlfNmQx"
      },
      "source": [
        "## Tuple Unpacking"
      ]
    },
    {
      "cell_type": "code",
      "execution_count": null,
      "metadata": {
        "colab": {
          "base_uri": "https://localhost:8080/"
        },
        "id": "PPwe7TPZNpiZ",
        "outputId": "18fd889f-08cc-4f65-918e-08d30179e790"
      },
      "outputs": [
        {
          "name": "stdout",
          "output_type": "stream",
          "text": [
            "1 2 3 apple banana\n",
            "1 2 [3, 'apple', 'banana']\n"
          ]
        }
      ],
      "source": [
        "# Unpacking into variables\n",
        "my_tuple = (1, 2, 3, \"apple\", \"banana\")\n",
        "\n",
        "a, b, c, d, e = my_tuple\n",
        "\n",
        "print(a, b, c, d, e)\n",
        "\n",
        "a, b, *rest = my_tuple\n",
        "\n",
        "print(a, b, rest)  # Output: 1 2 [3, 'apple', 'banana']\n"
      ]
    },
    {
      "cell_type": "markdown",
      "metadata": {
        "id": "-1y2qUNkN6b-"
      },
      "source": [
        "## Tuple Concatenation"
      ]
    },
    {
      "cell_type": "code",
      "execution_count": null,
      "metadata": {
        "colab": {
          "base_uri": "https://localhost:8080/"
        },
        "id": "YBmX6RkfN-f3",
        "outputId": "5f142aec-325b-4925-f6d7-122289b7d92c"
      },
      "outputs": [
        {
          "name": "stdout",
          "output_type": "stream",
          "text": [
            "(1, 2, 3, 'apple', 'banana')\n"
          ]
        }
      ],
      "source": [
        "tuple1 = (1, 2, 3)\n",
        "tuple2 = (\"apple\", \"banana\")\n",
        "\n",
        "# Concatenating tuples\n",
        "combined_tuple = tuple1 + tuple2\n",
        "\n",
        "print(combined_tuple)  # Output: (1, 2, 3, 'apple', 'banana')\n"
      ]
    },
    {
      "cell_type": "markdown",
      "metadata": {
        "id": "fTKYK2obN_-c"
      },
      "source": [
        "## Tuple Methods"
      ]
    },
    {
      "cell_type": "markdown",
      "metadata": {
        "id": "t-hC53ukOP8M"
      },
      "source": [
        "### Count"
      ]
    },
    {
      "cell_type": "code",
      "execution_count": null,
      "metadata": {
        "colab": {
          "base_uri": "https://localhost:8080/"
        },
        "id": "w9oIi3N0OSAF",
        "outputId": "e5cd5851-5523-4156-f095-1411c111662f"
      },
      "outputs": [
        {
          "name": "stdout",
          "output_type": "stream",
          "text": [
            "2\n"
          ]
        }
      ],
      "source": [
        "numbers = (1, 2, 3, 4, 5, 2)\n",
        "\n",
        "# Count occurrences of a value\n",
        "count_of_2 = numbers.count(2)\n",
        "print(count_of_2)"
      ]
    },
    {
      "cell_type": "markdown",
      "metadata": {
        "id": "NtJu92ITOWYv"
      },
      "source": [
        "### Index"
      ]
    },
    {
      "cell_type": "code",
      "execution_count": null,
      "metadata": {
        "colab": {
          "base_uri": "https://localhost:8080/"
        },
        "id": "Ic0bdFpdOX9a",
        "outputId": "44a04ac8-9279-4451-ce2d-420cc4509adc"
      },
      "outputs": [
        {
          "name": "stdout",
          "output_type": "stream",
          "text": [
            "3\n"
          ]
        }
      ],
      "source": [
        "numbers = (1, 2, 3, 4, 5, 2)\n",
        "\n",
        "# Find the index of a value\n",
        "index_of_4 = numbers.index(4)\n",
        "\n",
        "print(index_of_4)"
      ]
    },
    {
      "cell_type": "markdown",
      "metadata": {
        "id": "Ak-hUSZOOeYx"
      },
      "source": [
        "### Length"
      ]
    },
    {
      "cell_type": "code",
      "execution_count": null,
      "metadata": {
        "colab": {
          "base_uri": "https://localhost:8080/"
        },
        "id": "yvyfbt98Ofvu",
        "outputId": "cd194bbd-b492-43f7-d86f-2e3c6519ba12"
      },
      "outputs": [
        {
          "name": "stdout",
          "output_type": "stream",
          "text": [
            "5\n"
          ]
        }
      ],
      "source": [
        "my_tuple = (10, 20, 30, \"apple\", \"banana\")\n",
        "\n",
        "# Get the length of a tuple\n",
        "length = len(my_tuple)\n",
        "\n",
        "print(length)  # Output: 5\n"
      ]
    },
    {
      "cell_type": "markdown",
      "metadata": {
        "id": "odpY39tWOhJZ"
      },
      "source": [
        "### Max and Min Functions"
      ]
    },
    {
      "cell_type": "code",
      "execution_count": null,
      "metadata": {
        "colab": {
          "base_uri": "https://localhost:8080/"
        },
        "id": "Rt8dQv3POkVb",
        "outputId": "07501e7b-f713-45c9-8101-675156159ec1"
      },
      "outputs": [
        {
          "name": "stdout",
          "output_type": "stream",
          "text": [
            "10 2\n"
          ]
        }
      ],
      "source": [
        "numbers = (5, 8, 3, 2, 10)\n",
        "\n",
        "# Find the maximum and minimum values in a tuple\n",
        "max_value = max(numbers)\n",
        "min_value = min(numbers)\n",
        "\n",
        "print(max_value, min_value)  # Output: 10 2\n"
      ]
    },
    {
      "cell_type": "markdown",
      "metadata": {
        "id": "CuD34jTpOmsl"
      },
      "source": [
        "### Checking Membership"
      ]
    },
    {
      "cell_type": "code",
      "execution_count": null,
      "metadata": {
        "colab": {
          "base_uri": "https://localhost:8080/"
        },
        "id": "9dzzgzIQOriQ",
        "outputId": "3f843e87-7973-4bd1-ff0a-b0ad0fe0feca"
      },
      "outputs": [
        {
          "name": "stdout",
          "output_type": "stream",
          "text": [
            "True False\n"
          ]
        }
      ],
      "source": [
        "fruits = (\"apple\", \"orange\", \"banana\")\n",
        "\n",
        "# Check if an item is in the tuple\n",
        "is_apple_present = \"apple\" in fruits\n",
        "is_grape_present = \"grape\" in fruits\n",
        "\n",
        "print(is_apple_present, is_grape_present)  # Output: True False\n"
      ]
    },
    {
      "cell_type": "markdown",
      "metadata": {
        "id": "oa4iEHSOOtez"
      },
      "source": [
        "### `any()` and `all()` Functions"
      ]
    },
    {
      "cell_type": "code",
      "execution_count": null,
      "metadata": {
        "colab": {
          "base_uri": "https://localhost:8080/"
        },
        "id": "wCu14T62OyRq",
        "outputId": "6f2fd558-3000-4aa5-eed5-18888b46a815"
      },
      "outputs": [
        {
          "name": "stdout",
          "output_type": "stream",
          "text": [
            "True False\n"
          ]
        }
      ],
      "source": [
        "boolean_values = (True, True, False, True)\n",
        "\n",
        "# Check if any or all elements are True\n",
        "any_true = any(boolean_values)\n",
        "all_true = all(boolean_values)\n",
        "\n",
        "print(any_true, all_true)  # Output: True False\n"
      ]
    },
    {
      "cell_type": "markdown",
      "metadata": {
        "id": "-RrYc7JdO2dR"
      },
      "source": [
        "## Tuple Comparison"
      ]
    },
    {
      "cell_type": "code",
      "execution_count": null,
      "metadata": {
        "colab": {
          "base_uri": "https://localhost:8080/"
        },
        "id": "6RNQ9UiBO7Pj",
        "outputId": "3e6ff258-f057-473c-c804-6f8680b70356"
      },
      "outputs": [
        {
          "name": "stdout",
          "output_type": "stream",
          "text": [
            "True\n"
          ]
        }
      ],
      "source": [
        "tuple1 = (1, 2, 3)\n",
        "tuple2 = (4, 5, 6)\n",
        "\n",
        "# Compare tuples\n",
        "is_smaller = tuple1 < tuple2\n",
        "\n",
        "print(is_smaller)  # Output: True\n"
      ]
    },
    {
      "cell_type": "markdown",
      "metadata": {
        "id": "SVI2vycpO-n3"
      },
      "source": [
        "## Nested Tuples"
      ]
    },
    {
      "cell_type": "code",
      "execution_count": null,
      "metadata": {
        "colab": {
          "base_uri": "https://localhost:8080/"
        },
        "id": "jLmAJVyAO8-u",
        "outputId": "23370eb4-6a9a-4410-edb1-807fddd20b08"
      },
      "outputs": [
        {
          "name": "stdout",
          "output_type": "stream",
          "text": [
            "apple\n"
          ]
        }
      ],
      "source": [
        "nested_tuple = ((1, 2, 3), (\"apple\", \"banana\"), (\"x\", \"y\", \"z\"))\n",
        "\n",
        "print(nested_tuple[1][0])  # Output: apple\n"
      ]
    },
    {
      "cell_type": "markdown",
      "metadata": {
        "id": "24sbLpZkPGz-"
      },
      "source": [
        "## Immutable Nature of Tuples"
      ]
    },
    {
      "cell_type": "code",
      "execution_count": null,
      "metadata": {
        "id": "2q-1CudiPI-X"
      },
      "outputs": [],
      "source": [
        "my_tuple = (1, 2, 3)\n",
        "\n",
        "# Attempting to modify a tuple will result in an error\n",
        "# Uncommenting the next line will raise an error\n",
        "# my_tuple[0] = 10\n"
      ]
    },
    {
      "cell_type": "markdown",
      "metadata": {
        "id": "doAHdUSVPK0C"
      },
      "source": [
        "## Returning Multiple Values from a Function"
      ]
    },
    {
      "cell_type": "code",
      "execution_count": null,
      "metadata": {
        "colab": {
          "base_uri": "https://localhost:8080/"
        },
        "id": "KFElha-FPM30",
        "outputId": "2c885186-3f48-4718-d094-9482f900e205"
      },
      "outputs": [
        {
          "name": "stdout",
          "output_type": "stream",
          "text": [
            "(10, 20, 30)\n"
          ]
        }
      ],
      "source": [
        "def return_coordinates():\n",
        "    x = 10\n",
        "    y = 20\n",
        "    z = 30\n",
        "    return x, y, z\n",
        "\n",
        "coordinates = return_coordinates()\n",
        "print(coordinates)  # Output: (10, 20, 30)\n"
      ]
    },
    {
      "cell_type": "markdown",
      "metadata": {
        "id": "Fkdda31XPQrT"
      },
      "source": [
        "## Creating Single-Element Tuple"
      ]
    },
    {
      "cell_type": "code",
      "execution_count": null,
      "metadata": {
        "colab": {
          "base_uri": "https://localhost:8080/"
        },
        "id": "WOYtxd8CPRvM",
        "outputId": "a77429c1-107a-446e-9a27-4a790f65d879"
      },
      "outputs": [
        {
          "name": "stdout",
          "output_type": "stream",
          "text": [
            "(42,)\n"
          ]
        }
      ],
      "source": [
        "single_element_tuple = (42,)\n",
        "\n",
        "print(single_element_tuple)  # Output: (42,)"
      ]
    },
    {
      "cell_type": "markdown",
      "metadata": {
        "id": "QXbj98X0PYKX"
      },
      "source": [
        "## Using tuple() Constructor"
      ]
    },
    {
      "cell_type": "code",
      "execution_count": null,
      "metadata": {
        "colab": {
          "base_uri": "https://localhost:8080/"
        },
        "id": "x87NICpVPaMs",
        "outputId": "c4a6057f-dca4-43c7-c0dc-64828cb0adec"
      },
      "outputs": [
        {
          "name": "stdout",
          "output_type": "stream",
          "text": [
            "(1, 2, 3, 4)\n"
          ]
        }
      ],
      "source": [
        "my_list = [1, 2, 3, 4]\n",
        "\n",
        "# Converting a list to a tuple\n",
        "tuple_from_list = tuple(my_list)\n",
        "\n",
        "print(tuple_from_list)  # Output: (1, 2, 3, 4)\n"
      ]
    },
    {
      "cell_type": "markdown",
      "metadata": {
        "id": "UTssiSQFSE99"
      },
      "source": [
        "## Lists vs Tuples"
      ]
    },
    {
      "cell_type": "code",
      "execution_count": null,
      "metadata": {
        "colab": {
          "base_uri": "https://localhost:8080/"
        },
        "id": "az94EosuSJfz",
        "outputId": "a58aa01c-b642-469f-e56a-6f1f431ae0ad"
      },
      "outputs": [
        {
          "name": "stdout",
          "output_type": "stream",
          "text": [
            "[1, 2, 5, 10, 100]\n",
            "137120221345344\n",
            "137120221345344\n",
            "137119765904128\n",
            "104 bytes\n",
            "80 bytes\n"
          ]
        }
      ],
      "source": [
        "# compare the size\n",
        "import sys\n",
        "\n",
        "my_list = [0, 1, 2, 5, 10]\n",
        "my_tuple = (0, 1, 2, 5, 10)\n",
        "\n",
        "my_list_1 = my_list\n",
        "\n",
        "my_list_1.append(100)\n",
        "my_list.remove(0)\n",
        "print(my_list)\n",
        "\n",
        "print(id(my_list))\n",
        "print(id(my_list_1))\n",
        "print(id(my_tuple))\n",
        "\n",
        "print(sys.getsizeof(my_list), \"bytes\")\n",
        "print(sys.getsizeof(my_tuple), \"bytes\")"
      ]
    },
    {
      "cell_type": "markdown",
      "metadata": {
        "id": "hrGIBf-fP9Hy"
      },
      "source": [
        "# Coding Examples"
      ]
    },
    {
      "cell_type": "markdown",
      "metadata": {
        "id": "MA6mYfPUQAke"
      },
      "source": [
        "## String in Uppercase\n",
        "Write a function that takes a string as input and returns the string in uppercase."
      ]
    },
    {
      "cell_type": "code",
      "execution_count": null,
      "metadata": {
        "colab": {
          "base_uri": "https://localhost:8080/"
        },
        "id": "64XGPcwNUTNc",
        "outputId": "d98d900b-36bd-4091-937d-82d947eb8a4e"
      },
      "outputs": [
        {
          "name": "stdout",
          "output_type": "stream",
          "text": [
            "Enter a string to be converted to uppercase:wer\n",
            "WER\n"
          ]
        }
      ],
      "source": [
        "def to_uppercase(text):\n",
        "  return text.upper()\n",
        "\n",
        "\n",
        "input_string = input(\"Enter a string to be converted to uppercase:\")\n",
        "print(to_uppercase(input_string))"
      ]
    },
    {
      "cell_type": "markdown",
      "metadata": {
        "id": "YNrPNonwVJQw"
      },
      "source": [
        "## List with characters longer than 5\n",
        "Write a function that takes a list of strings as input and returns a new list with all the strings that are longer than 5 characters."
      ]
    },
    {
      "cell_type": "code",
      "execution_count": null,
      "metadata": {
        "colab": {
          "base_uri": "https://localhost:8080/"
        },
        "id": "omabxAFXVRcZ",
        "outputId": "71ee9f40-6f43-4f13-dbc6-e2cf25107561"
      },
      "outputs": [
        {
          "name": "stdout",
          "output_type": "stream",
          "text": [
            "['python', 'go lang', 'javascript']\n"
          ]
        }
      ],
      "source": [
        "def long_strings(strings):\n",
        "  return [string for string in strings if len(string) > 5]\n",
        "\n",
        "my_list = [\"python\", \"java\", \"c++\", \"go lang\", \"ruby\", \"c#\", \"javascript\"]\n",
        "print(long_strings(my_list))"
      ]
    },
    {
      "cell_type": "markdown",
      "metadata": {
        "id": "gsjPtiFPV8ZV"
      },
      "source": [
        "## Swap First and Last\n",
        "Write a function that takes a string as input and returns a new string with the first and last characters swapped."
      ]
    },
    {
      "cell_type": "code",
      "execution_count": null,
      "metadata": {
        "colab": {
          "base_uri": "https://localhost:8080/"
        },
        "id": "aNKiLOLGV-dS",
        "outputId": "71c4104f-ad90-4c2c-90f2-9243df2fefbe"
      },
      "outputs": [
        {
          "name": "stdout",
          "output_type": "stream",
          "text": [
            "Enter the input string to be swapped:swarup\n",
            "pwarus\n"
          ]
        }
      ],
      "source": [
        "def swap_first_last(text):\n",
        "  if len(text) < 2:\n",
        "    return text\n",
        "  return text[-1] + text[1:-1] + text[0]\n",
        "\n",
        "input_string = input(\"Enter the input string to be swapped:\")\n",
        "print(swap_first_last(input_string))"
      ]
    },
    {
      "cell_type": "markdown",
      "metadata": {
        "id": "5Z_FGMUIWNQO"
      },
      "source": [
        "## Convert to Strings\n",
        "Write a function that takes a tuple with mixed data types (strings, integers, floats) and returns a new tuple with all the elements converted to strings."
      ]
    },
    {
      "cell_type": "code",
      "execution_count": null,
      "metadata": {
        "colab": {
          "base_uri": "https://localhost:8080/"
        },
        "id": "ghjiTJSFWT26",
        "outputId": "338f46fc-dd6d-4a4a-8236-985908010ab7"
      },
      "outputs": [
        {
          "name": "stdout",
          "output_type": "stream",
          "text": [
            "('hello', '1', '2', '3', '4.56')\n"
          ]
        }
      ],
      "source": [
        "def to_strings(data):\n",
        "  return tuple(str(item) for item in data)\n",
        "\n",
        "my_tuple = (\"hello\", 1, 2, 3, 4.56)\n",
        "print(to_strings(my_tuple))"
      ]
    },
    {
      "cell_type": "markdown",
      "metadata": {
        "id": "XORsJlzbWiLQ"
      },
      "source": [
        "## Reverse a Tuple\n",
        "Write a function that takes a tuple as input and returns a new tuple with the elements reversed."
      ]
    },
    {
      "cell_type": "code",
      "execution_count": null,
      "metadata": {
        "colab": {
          "base_uri": "https://localhost:8080/"
        },
        "id": "wbH7_QvoWl9P",
        "outputId": "ac0c45e0-5e20-4c2b-9437-9f7eb9f86feb"
      },
      "outputs": [
        {
          "name": "stdout",
          "output_type": "stream",
          "text": [
            "(100, 10, 3, 6, 4, 1)\n"
          ]
        }
      ],
      "source": [
        "def reverse_tuple(data):\n",
        "  return tuple(data[::-1])\n",
        "\n",
        "my_tuple = (1, 4, 6, 3, 10, 100)\n",
        "print(reverse_tuple(my_tuple))"
      ]
    },
    {
      "cell_type": "markdown",
      "metadata": {
        "id": "H2hEfWX0XEXm"
      },
      "source": [
        "## Check Palindrome\n",
        "Palindrome - a word, phrase, or sequence that reads the same backwards as forwards, e.g. madam.\n",
        "Write a program to find whether the given string is palindrome or not."
      ]
    },
    {
      "cell_type": "code",
      "execution_count": null,
      "metadata": {
        "colab": {
          "base_uri": "https://localhost:8080/"
        },
        "id": "Jmgs_UoMXVhy",
        "outputId": "f412442f-37dc-4b16-de66-dfe19b94d041"
      },
      "outputs": [
        {
          "name": "stdout",
          "output_type": "stream",
          "text": [
            "Enter the string to check if palindrome or not:sws\n",
            "True\n"
          ]
        }
      ],
      "source": [
        "def is_palindrome(s):\n",
        "  start = 0\n",
        "  end = len(s) - 1\n",
        "  while start < end:\n",
        "    if s[start] != s[end]:\n",
        "      return False\n",
        "    start += 1\n",
        "    end -= 1\n",
        "  return True\n",
        "\n",
        "input_string = input(\"Enter the string to check if palindrome or not:\")\n",
        "print(is_palindrome(input_string))"
      ]
    }
  ],
  "metadata": {
    "colab": {
      "provenance": []
    },
    "kernelspec": {
      "display_name": "Python 3",
      "name": "python3"
    },
    "language_info": {
      "name": "python"
    }
  },
  "nbformat": 4,
  "nbformat_minor": 0
}
