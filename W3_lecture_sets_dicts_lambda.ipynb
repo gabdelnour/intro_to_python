{
  "cells": [
    {
      "cell_type": "markdown",
      "metadata": {
        "id": "TEc_UuLOrVzc"
      },
      "source": [
        "# Sets in Python"
      ]
    },
    {
      "cell_type": "markdown",
      "metadata": {
        "id": "JRib4vLJluA2"
      },
      "source": [
        "## Creating a Set"
      ]
    },
    {
      "cell_type": "code",
      "execution_count": null,
      "metadata": {
        "id": "cenEqXAVly2-"
      },
      "outputs": [],
      "source": [
        "# Using Curly Braces {}\n",
        "my_set = {1, 2, 3, 4, 5}\n",
        "\n",
        "\n",
        "# Using the set() Constructor:\n",
        "my_set = set([1, 2, 3, 4, 5])"
      ]
    },
    {
      "cell_type": "markdown",
      "metadata": {
        "id": "-hxjs03CmLX_"
      },
      "source": [
        "## Set Methods"
      ]
    },
    {
      "cell_type": "markdown",
      "metadata": {
        "id": "FQqXBF6PmOoF"
      },
      "source": [
        "### add()\n",
        "Adds a single element to the set."
      ]
    },
    {
      "cell_type": "code",
      "execution_count": 1,
      "metadata": {
        "id": "DYGM7bA0mM5Z"
      },
      "outputs": [
        {
          "ename": "NameError",
          "evalue": "name 'my_set' is not defined",
          "output_type": "error",
          "traceback": [
            "\u001b[0;31m---------------------------------------------------------------------------\u001b[0m",
            "\u001b[0;31mNameError\u001b[0m                                 Traceback (most recent call last)",
            "Cell \u001b[0;32mIn[1], line 1\u001b[0m\n\u001b[0;32m----> 1\u001b[0m \u001b[43mmy_set\u001b[49m\u001b[38;5;241m.\u001b[39madd(\u001b[38;5;241m6\u001b[39m)\n",
            "\u001b[0;31mNameError\u001b[0m: name 'my_set' is not defined"
          ]
        }
      ],
      "source": [
        "my_set.add(6)"
      ]
    },
    {
      "cell_type": "markdown",
      "metadata": {
        "id": "sWYBPb0CmcXQ"
      },
      "source": [
        "### update()\n",
        "Add multiple elements to the set."
      ]
    },
    {
      "cell_type": "code",
      "execution_count": null,
      "metadata": {
        "id": "bBQYm56YmwYv"
      },
      "outputs": [],
      "source": [
        "my_set.update([7, 8, 9])"
      ]
    },
    {
      "cell_type": "markdown",
      "metadata": {
        "id": "Gp3OElmDmc7w"
      },
      "source": [
        "### remove()\n",
        "Removes a specified element from the set. Raises a KeyError if the element is not found."
      ]
    },
    {
      "cell_type": "code",
      "execution_count": null,
      "metadata": {
        "id": "sJ4FXDjinF51"
      },
      "outputs": [],
      "source": [
        "my_set.remove(5)"
      ]
    },
    {
      "cell_type": "markdown",
      "metadata": {
        "id": "jfT1892LmdA0"
      },
      "source": [
        "### discard()\n",
        "Removes a specified element from the set if it is present."
      ]
    },
    {
      "cell_type": "code",
      "execution_count": null,
      "metadata": {
        "id": "oHeYNrTtnSV9"
      },
      "outputs": [],
      "source": [
        "my_set.discard(5)"
      ]
    },
    {
      "cell_type": "markdown",
      "metadata": {
        "id": "LhYdpPaimdFM"
      },
      "source": [
        "### pop()\n",
        "Removes and returns an arbitrary element from the set."
      ]
    },
    {
      "cell_type": "code",
      "execution_count": null,
      "metadata": {
        "id": "Y4ywy8GdnZFL"
      },
      "outputs": [],
      "source": [
        "popped_element = my_set.pop()"
      ]
    },
    {
      "cell_type": "markdown",
      "metadata": {
        "id": "23ejvLMCnYRA"
      },
      "source": []
    },
    {
      "cell_type": "markdown",
      "metadata": {
        "id": "SGiBdAcbneNG"
      },
      "source": [
        "### clear()\n",
        "Removes all the elements from the set."
      ]
    },
    {
      "cell_type": "code",
      "execution_count": null,
      "metadata": {
        "id": "S0CS9cUMneNH"
      },
      "outputs": [],
      "source": [
        "my_set.clear()"
      ]
    },
    {
      "cell_type": "markdown",
      "metadata": {
        "id": "MIVWgRDennQ4"
      },
      "source": [
        "### copy()\n",
        "Returns a shallow copy of the set."
      ]
    },
    {
      "cell_type": "code",
      "execution_count": null,
      "metadata": {
        "id": "IqMB4tM6nnQ4"
      },
      "outputs": [],
      "source": [
        "new_set = my_set.copy()"
      ]
    },
    {
      "cell_type": "markdown",
      "metadata": {
        "id": "jo5AeyMwnvfT"
      },
      "source": [
        "### union()\n",
        "Returns a new set containing all the distinct elements from both sets."
      ]
    },
    {
      "cell_type": "code",
      "execution_count": null,
      "metadata": {
        "id": "0FFHXvbxnvfU"
      },
      "outputs": [],
      "source": [
        "other_set = {3, 4, 5}\n",
        "union_set = my_set.union(other_set)\n"
      ]
    },
    {
      "cell_type": "markdown",
      "metadata": {
        "id": "bo__Vym1nvpJ"
      },
      "source": [
        "### intersection()\n",
        "Returns a new set containing elements that are present in both sets."
      ]
    },
    {
      "cell_type": "code",
      "execution_count": null,
      "metadata": {
        "id": "bpHBu-L7nvpJ"
      },
      "outputs": [],
      "source": [
        "intersection_set = my_set.intersection(other_set)"
      ]
    },
    {
      "cell_type": "markdown",
      "metadata": {
        "id": "3Gln-tHVnvyu"
      },
      "source": [
        "### difference()\n",
        "Returns a new set containing elements that are present in the first set but not in the second set."
      ]
    },
    {
      "cell_type": "code",
      "execution_count": null,
      "metadata": {
        "id": "vVFg_nfXnvyu"
      },
      "outputs": [],
      "source": [
        "difference_set = my_set.difference(other_set)"
      ]
    },
    {
      "cell_type": "markdown",
      "metadata": {
        "id": "PgySIrcRoQHg"
      },
      "source": [
        "## Membership Testing in Set"
      ]
    },
    {
      "cell_type": "code",
      "execution_count": null,
      "metadata": {
        "colab": {
          "base_uri": "https://localhost:8080/"
        },
        "id": "gjyyLNIHoa99",
        "outputId": "e097a477-3d52-4b9c-f9f2-67cfa1436891"
      },
      "outputs": [
        {
          "name": "stdout",
          "output_type": "stream",
          "text": [
            "True\n",
            "False\n",
            "4 is present in the set\n",
            "True\n",
            "False\n",
            "1 is present in the set\n",
            "2 is present in the set\n",
            "3 is present in the set\n",
            "4 is present in the set\n",
            "5 is present in the set\n"
          ]
        }
      ],
      "source": [
        "# Define a set\n",
        "my_set = {1, 2, 3, 4, 5}\n",
        "\n",
        "# Check if an element is present in the set\n",
        "print(3 in my_set)  # Output: True\n",
        "print(6 in my_set)  # Output: False\n",
        "\n",
        "# Using membership testing in conditional statements\n",
        "if 4 in my_set:\n",
        "    print(\"4 is present in the set\")\n",
        "else:\n",
        "    print(\"4 is not present in the set\")\n",
        "\n",
        "# Membership testing with strings\n",
        "word_set = {\"apple\", \"banana\", \"orange\"}\n",
        "print(\"apple\" in word_set)  # Output: True\n",
        "print(\"grape\" in word_set)  # Output: False\n",
        "\n",
        "# Using membership testing with loops\n",
        "for num in range(1, 6):\n",
        "    if num in my_set:\n",
        "        print(f\"{num} is present in the set\")\n",
        "    else:\n",
        "        print(f\"{num} is not present in the set\")\n"
      ]
    },
    {
      "cell_type": "code",
      "execution_count": null,
      "metadata": {
        "colab": {
          "base_uri": "https://localhost:8080/"
        },
        "id": "gKAKaV5sok-r",
        "outputId": "e216de0e-52a4-42b2-e9bd-901d527d8003"
      },
      "outputs": [
        {
          "name": "stdout",
          "output_type": "stream",
          "text": [
            "False\n",
            "False\n",
            "False\n",
            "True\n",
            "True\n",
            "False\n",
            "True\n",
            "False\n",
            "True\n",
            "False\n"
          ]
        }
      ],
      "source": [
        "# Define sets\n",
        "set1 = {1, 2, 3, 4, 5}\n",
        "set2 = {4, 5, 6, 7, 8}\n",
        "\n",
        "# Check if all elements of one set are present in another\n",
        "print(set1.issubset(set2))  # Output: False\n",
        "print(set2.issubset(set1))  # Output: False\n",
        "\n",
        "# Check if at least one element of a set is present in another\n",
        "print(set1.isdisjoint(set2))  # Output: False\n",
        "\n",
        "# Check if a set is a superset of another\n",
        "print(set1.issuperset({1, 2}))  # Output: True\n",
        "\n",
        "# Membership testing with complex data types\n",
        "student_set = {\"John\", \"Alice\", \"Bob\", \"Eve\"}\n",
        "print(\"John\" in student_set)  # Output: True\n",
        "print(\"Mia\" in student_set)   # Output: False\n",
        "\n",
        "# Membership testing with tuples\n",
        "tuple_set = {(1, 2), (3, 4), (5, 6)}\n",
        "print((1, 2) in tuple_set)  # Output: True\n",
        "print((2, 3) in tuple_set)  # Output: False\n",
        "\n",
        "# Using membership testing with nested sets\n",
        "nested_set = {frozenset({1, 2}), frozenset({3, 4})}\n",
        "print(frozenset({1, 2}) in nested_set)  # Output: True\n",
        "print(frozenset({5, 6}) in nested_set)  # Output: False\n"
      ]
    },
    {
      "cell_type": "markdown",
      "metadata": {
        "id": "4rinsoaEowNK"
      },
      "source": [
        "## Iterating over a Set"
      ]
    },
    {
      "cell_type": "markdown",
      "metadata": {
        "id": "y6XtViAno8Ve"
      },
      "source": [
        "### Using a for loop"
      ]
    },
    {
      "cell_type": "code",
      "execution_count": null,
      "metadata": {
        "colab": {
          "base_uri": "https://localhost:8080/"
        },
        "id": "57oCrdGto-rf",
        "outputId": "7dbcbfbd-3dd3-4e2e-8baf-81b9d1c657db"
      },
      "outputs": [
        {
          "name": "stdout",
          "output_type": "stream",
          "text": [
            "1\n",
            "2\n",
            "3\n",
            "4\n",
            "5\n"
          ]
        }
      ],
      "source": [
        "# Define a set\n",
        "my_set = {1, 2, 3, 4, 5}\n",
        "\n",
        "# Iterating over the set using a for loop\n",
        "for element in my_set:\n",
        "    print(element)\n"
      ]
    },
    {
      "cell_type": "markdown",
      "metadata": {
        "id": "ixcLIXt1pAt8"
      },
      "source": [
        "### Using set Comprehension"
      ]
    },
    {
      "cell_type": "code",
      "execution_count": null,
      "metadata": {
        "colab": {
          "base_uri": "https://localhost:8080/"
        },
        "id": "vfNg1eWapEE0",
        "outputId": "d466878e-85c6-4145-a5bd-6916262e7c8a"
      },
      "outputs": [
        {
          "name": "stdout",
          "output_type": "stream",
          "text": [
            "{1, 2, 3, 4, 5}\n"
          ]
        }
      ],
      "source": [
        "# Define a set\n",
        "my_set = {1, 2, 3, 4, 5}\n",
        "\n",
        "# Using set comprehension to iterate over the set\n",
        "result = {x for x in my_set}\n",
        "print(result)\n"
      ]
    },
    {
      "cell_type": "markdown",
      "metadata": {
        "id": "Nskcoh6DpGE8"
      },
      "source": [
        "### Using the `iter()` and `next()` Functions"
      ]
    },
    {
      "cell_type": "code",
      "execution_count": null,
      "metadata": {
        "colab": {
          "base_uri": "https://localhost:8080/"
        },
        "id": "hXPj52CupLcc",
        "outputId": "04f2711b-56fe-47d9-98a1-d6bcd350082f"
      },
      "outputs": [
        {
          "name": "stdout",
          "output_type": "stream",
          "text": [
            "1\n",
            "2\n",
            "3\n",
            "4\n",
            "5\n"
          ]
        }
      ],
      "source": [
        "# Define a set\n",
        "my_set = {1, 2, 3, 4, 5}\n",
        "\n",
        "# Creating an iterator object\n",
        "iterator = iter(my_set)\n",
        "\n",
        "# Iterating over the set using next() function\n",
        "try:\n",
        "    while True:\n",
        "        element = next(iterator)\n",
        "        print(element)\n",
        "except StopIteration:\n",
        "    pass\n"
      ]
    },
    {
      "cell_type": "markdown",
      "metadata": {
        "id": "m9G-Fz60pNET"
      },
      "source": [
        "### Using the enumerate() Function"
      ]
    },
    {
      "cell_type": "code",
      "execution_count": null,
      "metadata": {
        "colab": {
          "base_uri": "https://localhost:8080/"
        },
        "id": "tj3btblApPjf",
        "outputId": "da3cf450-b19d-45e5-fe27-b6a7827a68c5"
      },
      "outputs": [
        {
          "name": "stdout",
          "output_type": "stream",
          "text": [
            "Index: 0, Element: 1\n",
            "Index: 1, Element: 2\n",
            "Index: 2, Element: 3\n",
            "Index: 3, Element: 4\n",
            "Index: 4, Element: 5\n"
          ]
        }
      ],
      "source": [
        "# Define a set\n",
        "my_set = {1, 2, 3, 4, 5}\n",
        "\n",
        "# Using enumerate() to iterate over the set\n",
        "for index, element in enumerate(my_set):\n",
        "    print(f\"Index: {index}, Element: {element}\")\n"
      ]
    },
    {
      "cell_type": "markdown",
      "metadata": {
        "id": "hr3ZFPYXpS1m"
      },
      "source": [
        "### Using a While loop"
      ]
    },
    {
      "cell_type": "code",
      "execution_count": null,
      "metadata": {
        "colab": {
          "base_uri": "https://localhost:8080/"
        },
        "id": "5clHrEG1pSea",
        "outputId": "563c4caf-15c5-4142-e547-4ea6979f63c2"
      },
      "outputs": [
        {
          "name": "stdout",
          "output_type": "stream",
          "text": [
            "1\n",
            "2\n",
            "3\n",
            "4\n",
            "5\n"
          ]
        }
      ],
      "source": [
        "# Define a set\n",
        "my_set = {1, 2, 3, 4, 5}\n",
        "\n",
        "# Iterating over the set using a while loop\n",
        "iterator = iter(my_set)\n",
        "while True:\n",
        "    try:\n",
        "        element = next(iterator)\n",
        "        print(element)\n",
        "    except StopIteration:\n",
        "        break\n"
      ]
    },
    {
      "cell_type": "markdown",
      "metadata": {
        "id": "Neww6vPep13A"
      },
      "source": [
        "# Dictionaries in Python"
      ]
    },
    {
      "cell_type": "markdown",
      "metadata": {
        "id": "x4QOoHBZqGkR"
      },
      "source": [
        "## Creating a Dictionary"
      ]
    },
    {
      "cell_type": "code",
      "execution_count": null,
      "metadata": {
        "id": "qgqQK8rfqLiM"
      },
      "outputs": [],
      "source": [
        "# Creating a dictionary with key-value pairs\n",
        "my_dict = {'a': 1, 'b': 2, 'c': 3}\n",
        "\n",
        "\n",
        "# Creating a dictionary using the dict() constructor\n",
        "another_dict = dict([('x', 1), ('y', 2), ('z', 3)])"
      ]
    },
    {
      "cell_type": "markdown",
      "metadata": {
        "id": "U2Jjq68_qQpW"
      },
      "source": [
        "## Dictionary Membership Testing"
      ]
    },
    {
      "cell_type": "code",
      "execution_count": null,
      "metadata": {
        "colab": {
          "base_uri": "https://localhost:8080/"
        },
        "id": "rYLBu08AqTH8",
        "outputId": "622e4c67-740f-4e34-898b-9ac427593cce"
      },
      "outputs": [
        {
          "name": "stdout",
          "output_type": "stream",
          "text": [
            "True\n",
            "False\n"
          ]
        }
      ],
      "source": [
        "# Check if a key is present in the dictionary\n",
        "print('a' in my_dict)\n",
        "print('d' in my_dict)\n"
      ]
    },
    {
      "cell_type": "markdown",
      "metadata": {
        "id": "LxYopKU9qZBR"
      },
      "source": [
        "## Dictionary Methods"
      ]
    },
    {
      "cell_type": "markdown",
      "metadata": {
        "id": "aWBM7kIdqeJ8"
      },
      "source": [
        "### get()"
      ]
    },
    {
      "cell_type": "code",
      "execution_count": null,
      "metadata": {
        "id": "RhpRE5TjqhfP"
      },
      "outputs": [],
      "source": [
        "# Retrieving value associated with a key\n",
        "print(my_dict.get('a'))  # Output: 1\n",
        "print(my_dict.get('d', 'Key not found'))  # Output: Key not found\n"
      ]
    },
    {
      "cell_type": "markdown",
      "metadata": {
        "id": "dpKx2QYGqkhe"
      },
      "source": [
        "### update()"
      ]
    },
    {
      "cell_type": "code",
      "execution_count": null,
      "metadata": {
        "id": "c7SHI81pqmND"
      },
      "outputs": [],
      "source": [
        "# Adding or updating elements in the dictionary\n",
        "my_dict.update({'d': 4, 'e': 5})\n",
        "print(my_dict)  # Output: {'a': 1, 'b': 2, 'c': 3, 'd': 4, 'e': 5}\n"
      ]
    },
    {
      "cell_type": "markdown",
      "metadata": {
        "id": "VTfWFjU5qn-3"
      },
      "source": [
        "### pop()"
      ]
    },
    {
      "cell_type": "code",
      "execution_count": null,
      "metadata": {
        "id": "fVj_VIE1qq9e"
      },
      "outputs": [],
      "source": [
        "# Removing and returning an element from the dictionary\n",
        "removed_value = my_dict.pop('a')\n",
        "print(removed_value)  # Output: 1\n",
        "print(my_dict)  # Output: {'b': 2, 'c': 3, 'd': 4, 'e': 5}\n"
      ]
    },
    {
      "cell_type": "markdown",
      "metadata": {
        "id": "DWrmqy17qrid"
      },
      "source": [
        "### clear()"
      ]
    },
    {
      "cell_type": "code",
      "execution_count": null,
      "metadata": {
        "id": "7R-6nmE7qtqY"
      },
      "outputs": [],
      "source": [
        "# Clearing all elements from the dictionary\n",
        "my_dict.clear()\n",
        "print(my_dict)  # Output: {}\n"
      ]
    },
    {
      "cell_type": "code",
      "execution_count": null,
      "metadata": {
        "id": "1OF6toLzqwpy"
      },
      "outputs": [],
      "source": [
        "# Define a dictionary\n",
        "my_dict = {'a': 1, 'b': 2, 'c': 3}\n",
        "\n",
        "# Check membership\n",
        "print('b' in my_dict)  # Output: True\n",
        "\n",
        "# Iterate over items\n",
        "for key, value in my_dict.items():\n",
        "    print(key, \"->\", value)\n",
        "\n",
        "# Update dictionary\n",
        "my_dict.update({'d': 4})\n",
        "print(my_dict)  # Output: {'a': 1, 'b': 2, 'c': 3, 'd': 4}\n"
      ]
    },
    {
      "cell_type": "markdown",
      "metadata": {
        "id": "24S18DRwq0py"
      },
      "source": [
        "## Dictionary Iteration"
      ]
    },
    {
      "cell_type": "markdown",
      "metadata": {
        "id": "5Ppg6bQ8q5XX"
      },
      "source": [
        "### Iterating Over Keys"
      ]
    },
    {
      "cell_type": "code",
      "execution_count": null,
      "metadata": {
        "colab": {
          "base_uri": "https://localhost:8080/"
        },
        "id": "OoLlP03xq6-A",
        "outputId": "3d7510d8-4991-4e29-8431-242b09d97fe5"
      },
      "outputs": [
        {
          "name": "stdout",
          "output_type": "stream",
          "text": [
            "a -> 1\n",
            "b -> 2\n",
            "c -> 3\n"
          ]
        }
      ],
      "source": [
        "# Iterating over keys\n",
        "for key in my_dict:\n",
        "    print(key, \"->\", my_dict[key])\n"
      ]
    },
    {
      "cell_type": "markdown",
      "metadata": {
        "id": "DXujhhC4q7jv"
      },
      "source": [
        "### Iterating Over Items (Key-Value Pairs)"
      ]
    },
    {
      "cell_type": "code",
      "execution_count": null,
      "metadata": {
        "colab": {
          "base_uri": "https://localhost:8080/"
        },
        "id": "EhqvZCNBq-Y_",
        "outputId": "4448f95b-da27-4ce1-de8a-10d65b52acaf"
      },
      "outputs": [
        {
          "name": "stdout",
          "output_type": "stream",
          "text": [
            "a -> 1\n",
            "b -> 2\n",
            "c -> 3\n"
          ]
        }
      ],
      "source": [
        "# Iterating over items (key-value pairs)\n",
        "for key, value in my_dict.items():\n",
        "    print(key, \"->\", value)"
      ]
    },
    {
      "cell_type": "markdown",
      "metadata": {
        "id": "486fxHbvrCnz"
      },
      "source": [
        "### Iterating Over Values"
      ]
    },
    {
      "cell_type": "code",
      "execution_count": null,
      "metadata": {
        "id": "7iPl3kYnrFsb"
      },
      "outputs": [],
      "source": [
        "# Iterating over values\n",
        "for value in my_dict.values():\n",
        "    print(value)\n"
      ]
    },
    {
      "cell_type": "markdown",
      "metadata": {
        "id": "yfGXUfmNrOwR"
      },
      "source": [
        "## Nested Dictionary"
      ]
    },
    {
      "cell_type": "code",
      "execution_count": null,
      "metadata": {
        "id": "zqlfJttnrSCZ"
      },
      "outputs": [],
      "source": [
        "# Creating a nested dictionary\n",
        "nested_dict = {\n",
        "    'person1': {'name': 'Alice', 'age': 30},\n",
        "    'person2': {'name': 'Bob', 'age': 25}\n",
        "}\n",
        "\n",
        "\n",
        "# Accessing values in a nested dictionary\n",
        "print(nested_dict['person1']['name'])  # Output: Alice\n",
        "print(nested_dict['person2']['age'])   # Output: 25\n",
        "\n",
        "\n",
        "# Modifying values in a nested dictionary\n",
        "nested_dict['person1']['age'] = 35\n",
        "print(nested_dict['person1'])  # Output: {'name': 'Alice', 'age': 35}\n",
        "\n",
        "\n",
        "# Adding elements to a nested dictionary\n",
        "nested_dict['person3'] = {'name': 'Charlie', 'age': 40}\n",
        "print(nested_dict['person3'])  # Output: {'name': 'Charlie', 'age': 40}\n",
        "\n",
        "\n",
        "# Iterating over a nested dictionary\n",
        "for person, details in nested_dict.items():\n",
        "    print(\"Person:\", person)\n",
        "    for key, value in details.items():\n",
        "        print(key + \":\", value)\n",
        "    print()\n",
        "\n",
        "\n",
        "# Nested dictionary with lists\n",
        "nested_dict_with_list = {\n",
        "    'person1': {'name': 'Alice', 'languages': ['Python', 'Java']},\n",
        "    'person2': {'name': 'Bob', 'languages': ['C++', 'JavaScript']}\n",
        "}\n",
        "\n",
        "# Accessing list elements in a nested dictionary\n",
        "print(nested_dict_with_list['person1']['languages'][0])  # Output: Python\n",
        "\n",
        "\n"
      ]
    },
    {
      "cell_type": "markdown",
      "metadata": {
        "id": "ZItRdEwZrgAZ"
      },
      "source": [
        "# Lambda Functions"
      ]
    },
    {
      "cell_type": "markdown",
      "metadata": {
        "id": "5HOn1smVsYYe"
      },
      "source": [
        "## Syntax"
      ]
    },
    {
      "cell_type": "code",
      "execution_count": null,
      "metadata": {
        "id": "9qIeAcQHsZ8u"
      },
      "outputs": [],
      "source": [
        "lambda arguments: expression"
      ]
    },
    {
      "cell_type": "markdown",
      "metadata": {
        "id": "W5A0QiRJscoW"
      },
      "source": [
        "## Simple Addition"
      ]
    },
    {
      "cell_type": "code",
      "execution_count": null,
      "metadata": {
        "id": "L2NP0dXpskBT"
      },
      "outputs": [],
      "source": [
        "# Define a lambda function to add two numbers\n",
        "add = lambda x, y: x + y\n",
        "\n",
        "# Call the lambda function\n",
        "result = add(5, 3)\n",
        "print(result)  # Output: 8\n"
      ]
    },
    {
      "cell_type": "markdown",
      "metadata": {
        "id": "6W8R1GuTslal"
      },
      "source": [
        "## Finding Square of a Number"
      ]
    },
    {
      "cell_type": "code",
      "execution_count": null,
      "metadata": {
        "id": "bR2EaTEMspVa"
      },
      "outputs": [],
      "source": [
        "# Define a lambda function to find the square of a number\n",
        "square = lambda x: x ** 2\n",
        "\n",
        "# Call the lambda function\n",
        "result = square(4)\n",
        "print(result)  # Output: 16\n"
      ]
    },
    {
      "cell_type": "markdown",
      "metadata": {
        "id": "YFVn18jasq6b"
      },
      "source": [
        "## Sorting a List of Tuples"
      ]
    },
    {
      "cell_type": "code",
      "execution_count": 1,
      "metadata": {
        "id": "c-z1vhAzstRe"
      },
      "outputs": [
        {
          "name": "stdout",
          "output_type": "stream",
          "text": [
            "[(1, 'one'), (2, 'two'), (3, 'three'), (4, 'four')]\n"
          ]
        }
      ],
      "source": [
        "# Define a list of tuples\n",
        "pairs = [(1, 'one'), (3, 'three'), (2, 'two'), (4, 'four')]\n",
        "\n",
        "# Sort the list of tuples based on the first element using a lambda function\n",
        "pairs.sort(key=lambda x: x[0])\n",
        "\n",
        "print(pairs)  # Output: [(1, 'one'), (2, 'two'), (3, 'three'), (4, 'four')]\n"
      ]
    },
    {
      "cell_type": "markdown",
      "metadata": {
        "id": "3e6wXH06svTN"
      },
      "source": [
        "## Filter Even Numbers from a List"
      ]
    },
    {
      "cell_type": "code",
      "execution_count": null,
      "metadata": {
        "id": "ZcCoK6eTsxUJ"
      },
      "outputs": [],
      "source": [
        "# Define a list of numbers\n",
        "numbers = [1, 2, 3, 4, 5, 6, 7, 8, 9, 10]\n",
        "\n",
        "# Use a lambda function with filter() to filter even numbers\n",
        "even_numbers = list(filter(lambda x: x % 2 == 0, numbers))\n",
        "\n",
        "print(even_numbers)  # Output: [2, 4, 6, 8, 10]\n"
      ]
    },
    {
      "cell_type": "markdown",
      "metadata": {
        "id": "ER2Rx1p6syz4"
      },
      "source": [
        "## Mapping a List of Numbers"
      ]
    },
    {
      "cell_type": "code",
      "execution_count": null,
      "metadata": {
        "id": "VkayfHses1VG"
      },
      "outputs": [],
      "source": [
        "# Define a list of numbers\n",
        "numbers = [1, 2, 3, 4, 5]\n",
        "\n",
        "# Use a lambda function with map() to square each number in the list\n",
        "squared_numbers = list(map(lambda x: x ** 2, numbers))\n",
        "\n",
        "print(squared_numbers)  # Output: [1, 4, 9, 16, 25]\n"
      ]
    },
    {
      "cell_type": "markdown",
      "metadata": {
        "id": "VpWCwf0Es73U"
      },
      "source": [
        "# `map()` Function"
      ]
    },
    {
      "cell_type": "markdown",
      "metadata": {
        "id": "TrnFawVatFtE"
      },
      "source": [
        "## Syntax"
      ]
    },
    {
      "cell_type": "code",
      "execution_count": null,
      "metadata": {
        "id": "m3HG1RABtKJ6"
      },
      "outputs": [],
      "source": [
        "map(function, iterable)"
      ]
    },
    {
      "cell_type": "markdown",
      "metadata": {
        "id": "PHfJncQatJKI"
      },
      "source": [
        "## Squaring Numbers in a List"
      ]
    },
    {
      "cell_type": "code",
      "execution_count": null,
      "metadata": {
        "id": "QMwGYoNotRLZ"
      },
      "outputs": [],
      "source": [
        "# Define a list of numbers\n",
        "numbers = [1, 2, 3, 4, 5]\n",
        "\n",
        "# Use map() to square each number in the list\n",
        "squared_numbers = map(lambda x: x ** 2, numbers)\n",
        "\n",
        "# Convert the map object to a list\n",
        "squared_numbers_list = list(squared_numbers)\n",
        "\n",
        "print(squared_numbers_list)  # Output: [1, 4, 9, 16, 25]\n"
      ]
    },
    {
      "cell_type": "markdown",
      "metadata": {
        "id": "mxUiDyPFtR0J"
      },
      "source": [
        "## Converting Fahrenheit to Celsius"
      ]
    },
    {
      "cell_type": "code",
      "execution_count": null,
      "metadata": {
        "id": "yhYUU50xtVVB"
      },
      "outputs": [],
      "source": [
        "# Define a list of temperatures in Fahrenheit\n",
        "fahrenheit_temps = [32, 68, 86, 104]\n",
        "\n",
        "# Use map() to convert each temperature to Celsius\n",
        "celsius_temps = map(lambda f: (f - 32) * 5/9, fahrenheit_temps)\n",
        "\n",
        "# Convert the map object to a list\n",
        "celsius_temps_list = list(celsius_temps)\n",
        "\n",
        "print(celsius_temps_list)  # Output: [0.0, 20.0, 30.0, 40.0]\n"
      ]
    },
    {
      "cell_type": "markdown",
      "metadata": {
        "id": "6REpqSwBta3L"
      },
      "source": [
        "## Capitalizing Strings in a List"
      ]
    },
    {
      "cell_type": "code",
      "execution_count": null,
      "metadata": {
        "id": "OeFUWe_utbz3"
      },
      "outputs": [],
      "source": [
        "# Define a list of strings\n",
        "strings = ['apple', 'banana', 'cherry']\n",
        "\n",
        "# Use map() to capitalize each string in the list\n",
        "capitalized_strings = map(str.capitalize, strings)\n",
        "\n",
        "# Convert the map object to a list\n",
        "capitalized_strings_list = list(capitalized_strings)\n",
        "\n",
        "print(capitalized_strings_list)  # Output: ['Apple', 'Banana', 'Cherry']\n"
      ]
    },
    {
      "cell_type": "markdown",
      "metadata": {
        "id": "1EGWEbJxteiE"
      },
      "source": [
        "## Calculating Length of Strings in a List"
      ]
    },
    {
      "cell_type": "code",
      "execution_count": null,
      "metadata": {
        "id": "dtB9-VGatfrT"
      },
      "outputs": [],
      "source": [
        "# Define a list of strings\n",
        "strings = ['apple', 'banana', 'cherry']\n",
        "\n",
        "# Use map() to calculate the length of each string in the list\n",
        "lengths = map(len, strings)\n",
        "\n",
        "# Convert the map object to a list\n",
        "lengths_list = list(lengths)\n",
        "\n",
        "print(lengths_list)  # Output: [5, 6, 6]\n"
      ]
    },
    {
      "cell_type": "markdown",
      "metadata": {
        "id": "4Dul3g9Qthwm"
      },
      "source": [
        "## Mapping with Multiple Iterables"
      ]
    },
    {
      "cell_type": "code",
      "execution_count": null,
      "metadata": {
        "id": "uBydggbctjqR"
      },
      "outputs": [],
      "source": [
        "# Define two lists of numbers\n",
        "numbers1 = [1, 2, 3]\n",
        "numbers2 = [4, 5, 6]\n",
        "\n",
        "# Use map() to add corresponding elements of both lists\n",
        "sums = map(lambda x, y: x + y, numbers1, numbers2)\n",
        "\n",
        "# Convert the map object to a list\n",
        "sums_list = list(sums)\n",
        "\n",
        "print(sums_list)  # Output: [5, 7, 9]\n"
      ]
    },
    {
      "cell_type": "markdown",
      "metadata": {
        "id": "3Gqd01xwt0m9"
      },
      "source": [
        "# `filter()` Function"
      ]
    },
    {
      "cell_type": "markdown",
      "metadata": {
        "id": "-1hpa-Tjt0m-"
      },
      "source": [
        "## Syntax"
      ]
    },
    {
      "cell_type": "code",
      "execution_count": null,
      "metadata": {
        "id": "mRh5h5n2t0m-"
      },
      "outputs": [],
      "source": [
        "filter(function, iterable)\n"
      ]
    },
    {
      "cell_type": "markdown",
      "metadata": {
        "id": "WrrVkwhCt0m-"
      },
      "source": [
        "## Filtering Even Numbers"
      ]
    },
    {
      "cell_type": "code",
      "execution_count": null,
      "metadata": {
        "id": "2lt6_Iwft0m-"
      },
      "outputs": [],
      "source": [
        "# Define a list of numbers\n",
        "numbers = [1, 2, 3, 4, 5, 6, 7, 8, 9, 10]\n",
        "\n",
        "# Use filter() to keep only even numbers\n",
        "even_numbers = filter(lambda x: x % 2 == 0, numbers)\n",
        "\n",
        "# Convert the filter object to a list\n",
        "even_numbers_list = list(even_numbers)\n",
        "\n",
        "print(even_numbers_list)  # Output: [2, 4, 6, 8, 10]\n"
      ]
    },
    {
      "cell_type": "markdown",
      "metadata": {
        "id": "kR2r41vat0m_"
      },
      "source": [
        "## Filtering Strings with Length Greater Than 3"
      ]
    },
    {
      "cell_type": "code",
      "execution_count": null,
      "metadata": {
        "id": "bqu4FxlGt0m_"
      },
      "outputs": [],
      "source": [
        "# Define a list of strings\n",
        "strings = ['apple', 'banana', 'cherry', 'pear', 'grape']\n",
        "\n",
        "# Use filter() to keep only strings with length greater than 3\n",
        "filtered_strings = filter(lambda x: len(x) > 3, strings)\n",
        "\n",
        "# Convert the filter object to a list\n",
        "filtered_strings_list = list(filtered_strings)\n",
        "\n",
        "print(filtered_strings_list)  # Output: ['apple', 'banana', 'cherry', 'grape']\n"
      ]
    },
    {
      "cell_type": "markdown",
      "metadata": {
        "id": "VpyFIjzYt0m_"
      },
      "source": [
        "## Filtering Positive Numbers"
      ]
    },
    {
      "cell_type": "code",
      "execution_count": null,
      "metadata": {
        "id": "mf94dmnjt0m_"
      },
      "outputs": [],
      "source": [
        "# Define a list of numbers\n",
        "numbers = [-1, 2, -3, 4, -5, 6, -7, 8, -9, 10]\n",
        "\n",
        "# Use filter() to keep only positive numbers\n",
        "positive_numbers = filter(lambda x: x > 0, numbers)\n",
        "\n",
        "# Convert the filter object to a list\n",
        "positive_numbers_list = list(positive_numbers)\n",
        "\n",
        "print(positive_numbers_list)  # Output: [2, 4, 6, 8, 10]\n"
      ]
    },
    {
      "cell_type": "markdown",
      "metadata": {
        "id": "OSsGGMbyt0nA"
      },
      "source": [
        "## Removing None Values from a List\n",
        "\n"
      ]
    },
    {
      "cell_type": "code",
      "execution_count": null,
      "metadata": {
        "id": "iIR2eGWjt0nA"
      },
      "outputs": [],
      "source": [
        "# Define a list with None values\n",
        "values = [1, None, 2, None, 3, None]\n",
        "\n",
        "# Use filter() to remove None values\n",
        "filtered_values = filter(lambda x: x is not None, values)\n",
        "\n",
        "# Convert the filter object to a list\n",
        "filtered_values_list = list(filtered_values)\n",
        "\n",
        "print(filtered_values_list)  # Output: [1, 2, 3]\n"
      ]
    },
    {
      "cell_type": "markdown",
      "metadata": {
        "id": "WNaS6NlRt0nA"
      },
      "source": [
        "## Filtering using a Custom Function"
      ]
    },
    {
      "cell_type": "code",
      "execution_count": null,
      "metadata": {
        "id": "vj71xHyat0nA"
      },
      "outputs": [],
      "source": [
        "# Define a custom function to filter strings starting with 'a'\n",
        "def starts_with_a(s):\n",
        "    return s.startswith('a')\n",
        "\n",
        "# Define a list of strings\n",
        "strings = ['apple', 'banana', 'cherry', 'apricot', 'grape']\n",
        "\n",
        "# Use filter() with the custom function\n",
        "filtered_strings = filter(starts_with_a, strings)\n",
        "\n",
        "# Convert the filter object to a list\n",
        "filtered_strings_list = list(filtered_strings)\n",
        "\n",
        "print(filtered_strings_list)  # Output: ['apple', 'apricot']\n"
      ]
    },
    {
      "cell_type": "markdown",
      "metadata": {
        "id": "VbhtRGBAuwiW"
      },
      "source": [
        "# `reduce()` Function"
      ]
    },
    {
      "cell_type": "markdown",
      "metadata": {
        "id": "D7VfphASuwiW"
      },
      "source": [
        "## Syntax"
      ]
    },
    {
      "cell_type": "code",
      "execution_count": null,
      "metadata": {
        "id": "3nZw_b2XuwiW"
      },
      "outputs": [],
      "source": [
        "functools.reduce(function, iterable[, initializer])\n"
      ]
    },
    {
      "cell_type": "markdown",
      "metadata": {
        "id": "YToObajFuwiX"
      },
      "source": [
        "## Summing Numbers in a List"
      ]
    },
    {
      "cell_type": "code",
      "execution_count": null,
      "metadata": {
        "id": "tq47stmauwiX"
      },
      "outputs": [],
      "source": [
        "from functools import reduce\n",
        "\n",
        "# Define a list of numbers\n",
        "numbers = [1, 2, 3, 4, 5]\n",
        "\n",
        "# Use reduce() to calculate the sum of the numbers\n",
        "sum_of_numbers = reduce(lambda x, y: x + y, numbers)\n",
        "\n",
        "print(sum_of_numbers)  # Output: 15 (1 + 2 + 3 + 4 + 5)\n"
      ]
    },
    {
      "cell_type": "markdown",
      "metadata": {
        "id": "kYER_PjIuwiX"
      },
      "source": [
        "## Finding Maximum Number in a List"
      ]
    },
    {
      "cell_type": "code",
      "execution_count": null,
      "metadata": {
        "id": "hNPckLX0uwiX"
      },
      "outputs": [],
      "source": [
        "from functools import reduce\n",
        "\n",
        "# Define a list of numbers\n",
        "numbers = [3, 1, 7, 5, 9, 2]\n",
        "\n",
        "# Use reduce() to find the maximum number\n",
        "max_number = reduce(lambda x, y: x if x > y else y, numbers)\n",
        "\n",
        "print(max_number)  # Output: 9\n"
      ]
    },
    {
      "cell_type": "markdown",
      "metadata": {
        "id": "JiFZmIIHuwiX"
      },
      "source": [
        "## Concatenating Strings in a List"
      ]
    },
    {
      "cell_type": "code",
      "execution_count": null,
      "metadata": {
        "id": "81cTsBIOuwiX"
      },
      "outputs": [],
      "source": [
        "from functools import reduce\n",
        "\n",
        "# Define a list of strings\n",
        "strings = ['hello', 'world', 'this', 'is', 'python']\n",
        "\n",
        "# Use reduce() to concatenate the strings\n",
        "concatenated_string = reduce(lambda x, y: x + ' ' + y, strings)\n",
        "\n",
        "print(concatenated_string)  # Output: hello world this is python\n"
      ]
    },
    {
      "cell_type": "markdown",
      "metadata": {
        "id": "HZTGb2rAuwiY"
      },
      "source": [
        "## Removing None Values from a List\n",
        "\n"
      ]
    },
    {
      "cell_type": "code",
      "execution_count": null,
      "metadata": {
        "id": "ir8AXF45uwiY"
      },
      "outputs": [],
      "source": [
        "# Define a list with None values\n",
        "values = [1, None, 2, None, 3, None]\n",
        "\n",
        "# Use filter() to remove None values\n",
        "filtered_values = filter(lambda x: x is not None, values)\n",
        "\n",
        "# Convert the filter object to a list\n",
        "filtered_values_list = list(filtered_values)\n",
        "\n",
        "print(filtered_values_list)  # Output: [1, 2, 3]\n"
      ]
    },
    {
      "cell_type": "markdown",
      "metadata": {
        "id": "NHfSTHqiuwiY"
      },
      "source": [
        "## Computing Factorial of a Number"
      ]
    },
    {
      "cell_type": "code",
      "execution_count": null,
      "metadata": {
        "id": "v1wCLBc9uwiY"
      },
      "outputs": [],
      "source": [
        "from functools import reduce\n",
        "\n",
        "# Define a number\n",
        "n = 5\n",
        "\n",
        "# Use reduce() to calculate the factorial of the number\n",
        "factorial = reduce(lambda x, y: x * y, range(1, n + 1))\n",
        "\n",
        "print(factorial)  # Output: 120 (5 * 4 * 3 * 2 * 1)\n"
      ]
    },
    {
      "cell_type": "markdown",
      "metadata": {
        "id": "ZtIO0dm3vOXs"
      },
      "source": [
        "## Performing Custom Rolling Computation"
      ]
    },
    {
      "cell_type": "code",
      "execution_count": null,
      "metadata": {
        "id": "vNAL0YD9vO39"
      },
      "outputs": [],
      "source": [
        "from functools import reduce\n",
        "\n",
        "# Define a list of numbers\n",
        "numbers = [10, 20, 30, 40, 50]\n",
        "\n",
        "# Use reduce() to perform custom rolling computation\n",
        "result = reduce(lambda x, y: (x[0] + y, y), numbers, (0, 0))\n",
        "\n",
        "print(result)  # Output: (150, 50)\n"
      ]
    },
    {
      "cell_type": "markdown",
      "metadata": {
        "id": "XwWhh1qjvbec"
      },
      "source": [
        "# Scope of Variables"
      ]
    },
    {
      "cell_type": "markdown",
      "metadata": {
        "id": "oNy5Q5davduM"
      },
      "source": [
        "## Local Scope"
      ]
    },
    {
      "cell_type": "code",
      "execution_count": null,
      "metadata": {
        "id": "Dgmng7gJvfJL"
      },
      "outputs": [],
      "source": [
        "def my_function():\n",
        "    # Variable 'x' is defined within the function\n",
        "    x = 10\n",
        "    print(\"Inside my_function:\", x)\n",
        "\n",
        "# Call the function\n",
        "my_function()\n",
        "\n",
        "# Attempting to access 'x' outside the function will result in a NameError\n",
        "# print(\"Outside my_function:\", x)\n"
      ]
    },
    {
      "cell_type": "markdown",
      "metadata": {
        "id": "nsCHgSY0vmEU"
      },
      "source": [
        "## Enclosing (Nonlocal) Scope"
      ]
    },
    {
      "cell_type": "code",
      "execution_count": null,
      "metadata": {
        "id": "mmzslHUGvo66"
      },
      "outputs": [],
      "source": [
        "def outer_function():\n",
        "    x = 10  # Variable in the enclosing scope\n",
        "\n",
        "    def inner_function():\n",
        "        nonlocal x  # Accessing variable 'x' from the enclosing scope\n",
        "        x += 5\n",
        "        print(\"Inside inner_function:\", x)\n",
        "\n",
        "    inner_function()  # Call the inner function\n",
        "\n",
        "    print(\"Outside inner_function:\", x)  # 'x' modified in the inner function\n",
        "\n",
        "# Call the outer function\n",
        "outer_function()\n"
      ]
    },
    {
      "cell_type": "markdown",
      "metadata": {
        "id": "ryfEEEIDvr7n"
      },
      "source": [
        "## Global Scope"
      ]
    },
    {
      "cell_type": "code",
      "execution_count": null,
      "metadata": {
        "id": "_DpkS1CZvtgi"
      },
      "outputs": [],
      "source": [
        "# Variable 'x' is defined in the global scope\n",
        "x = 10\n",
        "\n",
        "def my_function():\n",
        "    print(\"Inside my_function:\", x)  # Accessing 'x' from the global scope\n",
        "\n",
        "# Call the function\n",
        "my_function()\n",
        "\n",
        "print(\"Outside my_function:\", x)  # 'x' accessible outside the function\n"
      ]
    },
    {
      "cell_type": "markdown",
      "metadata": {
        "id": "HNvslaqwvyMI"
      },
      "source": [
        "## Modifying Global Variable Inside Function"
      ]
    },
    {
      "cell_type": "code",
      "execution_count": null,
      "metadata": {
        "id": "rwDgviiMvzdn"
      },
      "outputs": [],
      "source": [
        "x = 10  # Define a global variable\n",
        "\n",
        "def modify_global():\n",
        "    global x  # Declare 'x' as global within the function\n",
        "    x += 5\n",
        "    print(\"Inside modify_global:\", x)\n",
        "\n",
        "# Call the function to modify the global variable\n",
        "modify_global()\n",
        "\n",
        "print(\"Outside modify_global:\", x)  # 'x' has been modified globally\n"
      ]
    },
    {
      "cell_type": "markdown",
      "metadata": {
        "id": "1Rt47-Zgv9Nf"
      },
      "source": [
        "# Call By Value"
      ]
    },
    {
      "cell_type": "code",
      "execution_count": null,
      "metadata": {
        "colab": {
          "base_uri": "https://localhost:8080/"
        },
        "id": "bt7eCxcrv-u4",
        "outputId": "d36be5f6-7e4f-472e-cacc-ed1f45d8d4d9"
      },
      "outputs": [
        {
          "name": "stdout",
          "output_type": "stream",
          "text": [
            "Inside function: 11\n",
            "Outside function: 10\n"
          ]
        }
      ],
      "source": [
        "def increment(x):\n",
        "    x += 1\n",
        "    print(\"Inside function:\", x)\n",
        "\n",
        "# Define a variable\n",
        "num = 10\n",
        "\n",
        "# Call the function\n",
        "increment(num)\n",
        "\n",
        "print(\"Outside function:\", num)  # Original value remains unchanged\n"
      ]
    },
    {
      "cell_type": "markdown",
      "metadata": {
        "id": "xvo9o-5mwAJY"
      },
      "source": [
        "# Call by Reference"
      ]
    },
    {
      "cell_type": "code",
      "execution_count": null,
      "metadata": {
        "colab": {
          "base_uri": "https://localhost:8080/"
        },
        "id": "AHQ55cWAwBkQ",
        "outputId": "ab3c73ac-4414-4ff4-e5d4-90b2d90197e7"
      },
      "outputs": [
        {
          "name": "stdout",
          "output_type": "stream",
          "text": [
            "Inside function: [1, 2, 3, 4]\n",
            "Outside function: [1, 2, 3, 4]\n"
          ]
        }
      ],
      "source": [
        "def append_element(lst):\n",
        "    lst.append(4)\n",
        "    print(\"Inside function:\", lst)\n",
        "\n",
        "# Define a list\n",
        "my_list = [1, 2, 3]\n",
        "\n",
        "# Call the function\n",
        "append_element(my_list)\n",
        "\n",
        "print(\"Outside function:\", my_list)  # Original list is modified\n"
      ]
    },
    {
      "cell_type": "markdown",
      "metadata": {
        "id": "x80fqvWowNjZ"
      },
      "source": [
        "# Coding Examples"
      ]
    },
    {
      "cell_type": "markdown",
      "metadata": {
        "id": "rJBNqpA3waO4"
      },
      "source": [
        "## Word Frequency Analysis"
      ]
    },
    {
      "cell_type": "markdown",
      "metadata": {
        "id": "ieg_XEC4weqg"
      },
      "source": [
        "Problem Statement:\n",
        "You are given a list of sentences. Your task is to perform a word frequency analysis and answer various queries related to the words in the sentences.\n",
        "\n",
        "Requirements:\n",
        "1. Create a function `word_frequency(sentences)` that takes a list of sentences as input and returns a dictionary where keys are unique words and values are their respective frequencies in the sentences.\n",
        "\n",
        "2. Implement a function `most_frequent_words(word_freq_dict, n)` that takes the word frequency dictionary and an integer n as input and returns a list of the top n most frequent words.\n",
        "\n",
        "3. Write a function `word_length_distribution(sentences)` that returns a dictionary where keys are word lengths, and values are the count of words of that length.\n",
        "\n",
        "4. Create a function `filter_words_by_length(word_freq_dict, length)` that takes the word frequency dictionary and a length as input, and returns a dictionary containing only the words of the specified length.\n",
        "\n",
        "5. Implement a function `total_word_count(sentences)` that returns the total number of words in all the sentences.\""
      ]
    },
    {
      "cell_type": "code",
      "execution_count": null,
      "metadata": {
        "colab": {
          "base_uri": "https://localhost:8080/"
        },
        "id": "xKikFc7Wwkwn",
        "outputId": "78926b07-4875-4645-abb0-d0ae6cf57266"
      },
      "outputs": [
        {
          "name": "stdout",
          "output_type": "stream",
          "text": [
            "Word Frequency: {'hello,': 1, 'how': 1, 'are': 1, 'you?': 1, \"i'm\": 1, 'doing': 1, 'fine,': 1, 'thank': 1, 'you!': 1, 'python': 1, 'is': 1, 'a': 1, 'powerful': 1, 'language.': 1, 'i': 1, 'love': 1, 'programming': 1, 'in': 1, 'python!': 1}\n",
            "Top 3 Most Frequent Words: ['hello,', 'how', 'are']\n",
            "Word Length Distribution: {6: 2, 3: 3, 4: 3, 5: 3, 2: 2, 1: 2, 8: 1, 9: 1, 11: 1, 7: 1}\n",
            "Words with Length 5: {'doing': 1, 'fine,': 1, 'thank': 1}\n",
            "Total Word Count: 19\n"
          ]
        }
      ],
      "source": [
        "\n",
        "def word_frequency(sentences):\n",
        "    freq_dict = {}\n",
        "    for sentence in sentences:\n",
        "        words = sentence.lower().split()\n",
        "        for word in words:\n",
        "            freq_dict[word] = freq_dict.get(word, 0) + 1\n",
        "    return freq_dict\n",
        "\n",
        "def most_frequent_words(word_freq_dict, n):\n",
        "    sorted_words = sorted(word_freq_dict.items(), key=lambda x: x[1], reverse=True)\n",
        "    return [word[0] for word in sorted_words[:n]]\n",
        "\n",
        "def word_length_distribution(sentences):\n",
        "    length_distribution = {}\n",
        "    for sentence in sentences:\n",
        "        words = sentence.lower().split()\n",
        "        for word in words:\n",
        "            length_distribution[len(word)] = length_distribution.get(len(word), 0) + 1\n",
        "    return length_distribution\n",
        "\n",
        "def filter_words_by_length(word_freq_dict, length):\n",
        "    return {word: freq for word, freq in word_freq_dict.items() if len(word) == length}\n",
        "\n",
        "def total_word_count(sentences):\n",
        "    total_count = 0\n",
        "    for sentence in sentences:\n",
        "        words = sentence.lower().split()\n",
        "        total_count += len(words)\n",
        "    return total_count\n",
        "\n",
        "# Example usage:\n",
        "sentences = [\n",
        "    \"Hello, how are you?\",\n",
        "    \"I'm doing fine, thank you!\",\n",
        "    \"Python is a powerful language.\",\n",
        "    \"I love programming in Python!\"\n",
        "]\n",
        "\n",
        "word_freq_dict = word_frequency(sentences)\n",
        "print(\"Word Frequency:\", word_freq_dict)\n",
        "\n",
        "top_words = most_frequent_words(word_freq_dict, 3)\n",
        "print(\"Top 3 Most Frequent Words:\", top_words)\n",
        "\n",
        "word_length_dist = word_length_distribution(sentences)\n",
        "print(\"Word Length Distribution:\", word_length_dist)\n",
        "\n",
        "filtered_words = filter_words_by_length(word_freq_dict, 5)\n",
        "print(\"Words with Length 5:\", filtered_words)\n",
        "\n",
        "total_count = total_word_count(sentences)\n",
        "print(\"Total Word Count:\", total_count)\n"
      ]
    },
    {
      "cell_type": "markdown",
      "metadata": {
        "id": "O7zw7NSVw1q3"
      },
      "source": [
        "## Student Performance Analysis"
      ]
    },
    {
      "cell_type": "markdown",
      "metadata": {
        "id": "zyQdVFI6w6cV"
      },
      "source": [
        "\n",
        "Problem Statement: You are provided with a list of dictionaries representing students' performance in different subjects. Each dictionary contains the student's name, a list of subject scores, and an overall average.\n",
        "\n",
        "\n",
        "\n",
        "```\n",
        "students_data = [\n",
        "    {\"name\": \"Alice\", \"scores\": [90, 85, 92], \"average\": 0},\n",
        "    {\"name\": \"Bob\", \"scores\": [78, 80, 85], \"average\": 0},\n",
        "    {\"name\": \"Charlie\", \"scores\": [95, 88, 91], \"average\": 0},\n",
        "    # ... (additional student data)\n",
        "]\n",
        "```\n",
        "\n",
        "\n",
        "\n",
        "Subproblems:\n",
        "1. Calculate Averages: Write a function `calculate_averages(students_data)` that calculates the overall average for each student and updates the \"average\" key in each dictionary.\n",
        "\n",
        "2. Top Performing Students: Implement a function `top_performers(students_data, n)` that takes the student data and an integer n as input, and returns a list of the top n performing students based on their overall averages.\n",
        "\n",
        "3. Subject-wise Average: Write a function `subject_wise_average(students_data)` that returns a dictionary where keys are subjects, and values are the average scores for that subject across all students.\n",
        "\n",
        "4. Lambda and Filtering: Use a lambda function and the filter function to create a list of students who scored above a certain threshold (e.g., overall average > 85).\n",
        "\n",
        "5. Highest Scorer in a Subject: Create a function `highest_scorer_subject(students_data, subject)` that takes the student data and a subject name as input and returns the student with the highest score in that subject.\n",
        "\n",
        "6. Subject-wise Improvement: Implement a function `subject_wise_improvement(students_data, subject)` that takes the student data and a subject name as input and returns a list of students who improved their scores in that subject compared to the previous evaluation."
      ]
    },
    {
      "cell_type": "code",
      "execution_count": null,
      "metadata": {
        "colab": {
          "base_uri": "https://localhost:8080/"
        },
        "id": "wKTukvJFxFwT",
        "outputId": "c1e59e86-244d-4adf-87d0-78197317c49b"
      },
      "outputs": [
        {
          "name": "stdout",
          "output_type": "stream",
          "text": [
            "Updated Student Data: [{'name': 'Alice', 'scores': [90, 85, 92], 'average': 89.0}, {'name': 'Bob', 'scores': [78, 80, 85], 'average': 81.0}, {'name': 'Charlie', 'scores': [95, 88, 91], 'average': 91.33333333333333}]\n",
            "Top Performers: [{'name': 'Charlie', 'scores': [95, 88, 91], 'average': 91.33333333333333}, {'name': 'Alice', 'scores': [90, 85, 92], 'average': 89.0}]\n",
            "Subject-wise Average: {'Subject_1': 87.66666666666667, 'Subject_2': 84.33333333333333, 'Subject_3': 89.33333333333333}\n",
            "Students with Overall Average > 85: [{'name': 'Alice', 'scores': [90, 85, 92], 'average': 89.0}, {'name': 'Charlie', 'scores': [95, 88, 91], 'average': 91.33333333333333}]\n",
            "Highest Scorer in Subject 2: Charlie\n",
            "Students who Improved in Subject 3: ['Alice', 'Bob', 'Charlie']\n"
          ]
        }
      ],
      "source": [
        "students_data = [\n",
        "    {\"name\": \"Alice\", \"scores\": [90, 85, 92], \"average\": 0},\n",
        "    {\"name\": \"Bob\", \"scores\": [78, 80, 85], \"average\": 0},\n",
        "    {\"name\": \"Charlie\", \"scores\": [95, 88, 91], \"average\": 0},\n",
        "    # ... (additional student data)\n",
        "]\n",
        "\n",
        "# 1. Calculate Averages\n",
        "def calculate_averages(students_data):\n",
        "    for student in students_data:\n",
        "        student[\"average\"] = sum(student[\"scores\"]) / len(student[\"scores\"])\n",
        "\n",
        "# 2. Top Performing Students\n",
        "def top_performers(students_data, n):\n",
        "    sorted_students = sorted(students_data, key=lambda x: x[\"average\"], reverse=True)\n",
        "    return sorted_students[:n]\n",
        "\n",
        "# 3. Subject-wise Average\n",
        "def subject_wise_average(students_data):\n",
        "    subject_avg = {}\n",
        "    for student in students_data:\n",
        "        for i, score in enumerate(student[\"scores\"]):\n",
        "            subject = f\"Subject_{i+1}\"\n",
        "            subject_avg[subject] = subject_avg.get(subject, 0) + score\n",
        "    for subject, total_score in subject_avg.items():\n",
        "        subject_avg[subject] = total_score / len(students_data)\n",
        "    return subject_avg\n",
        "\n",
        "# 4. Lambda and Filtering\n",
        "def above_threshold_students(students_data, threshold):\n",
        "    return list(filter(lambda x: x[\"average\"] > threshold, students_data))\n",
        "\n",
        "# 5. Highest Scorer in a Subject\n",
        "def highest_scorer_subject(students_data, subject):\n",
        "    scores_in_subject = []\n",
        "    for student in students_data:\n",
        "        subject_index = int(subject.split(\"_\")[1]) - 1\n",
        "        scores_in_subject.append((student[\"name\"], student[\"scores\"][subject_index]))\n",
        "    return max(scores_in_subject, key=lambda x: x[1])[0]\n",
        "\n",
        "# 6. Subject-wise Improvement\n",
        "def subject_wise_improvement(students_data, subject):\n",
        "    subject_index = int(subject.split(\"_\")[1]) - 1\n",
        "    improved_students = []\n",
        "    for student in students_data:\n",
        "        if len(student[\"scores\"]) > 1 and student[\"scores\"][subject_index] > student[\"scores\"][subject_index - 1]:\n",
        "            improved_students.append(student[\"name\"])\n",
        "    return improved_students\n",
        "\n",
        "# Example usage:\n",
        "calculate_averages(students_data)\n",
        "print(\"Updated Student Data:\", students_data)\n",
        "\n",
        "print(\"Top Performers:\", top_performers(students_data, 2))\n",
        "\n",
        "print(\"Subject-wise Average:\", subject_wise_average(students_data))\n",
        "\n",
        "print(\"Students with Overall Average > 85:\", above_threshold_students(students_data, 85))\n",
        "\n",
        "print(\"Highest Scorer in Subject 2:\", highest_scorer_subject(students_data, \"Subject_2\"))\n",
        "\n",
        "print(\"Students who Improved in Subject 3:\", subject_wise_improvement(students_data, \"Subject_3\"))\n"
      ]
    }
  ],
  "metadata": {
    "colab": {
      "provenance": []
    },
    "kernelspec": {
      "display_name": "Python (pipx pandas)",
      "language": "python",
      "name": "pandas-env"
    },
    "language_info": {
      "codemirror_mode": {
        "name": "ipython",
        "version": 3
      },
      "file_extension": ".py",
      "mimetype": "text/x-python",
      "name": "python",
      "nbconvert_exporter": "python",
      "pygments_lexer": "ipython3",
      "version": "3.12.5"
    }
  },
  "nbformat": 4,
  "nbformat_minor": 0
}
