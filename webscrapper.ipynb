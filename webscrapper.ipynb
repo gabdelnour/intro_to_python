{
 "cells": [
  {
   "cell_type": "code",
   "execution_count": 2,
   "metadata": {},
   "outputs": [],
   "source": [
    "from selenium import webdriver\n",
    "from selenium.webdriver.chrome.service import Service\n",
    "from selenium.webdriver.common.by import By\n",
    "from selenium.webdriver.support.wait import WebDriverWait\n",
    "from selenium.webdriver.support import expected_conditions as EC\n",
    "import time"
   ]
  },
  {
   "cell_type": "code",
   "execution_count": 3,
   "metadata": {},
   "outputs": [],
   "source": [
    "driver_path = '/Users/gustavoabdelnour/Desktop/Data Science/chromedriver-mac-arm64/chromedriver'\n",
    "service = Service(driver_path)\n",
    "driver = webdriver.Chrome(service=service)\n",
    "driver.get('https://biwenger.as.com/login')\n",
    "\n",
    "time.sleep(2)\n",
    "\n",
    "try:\n",
    "    element = WebDriverWait(driver, 10).until(\n",
    "        EC.presence_of_element_located((By.ID, \"didomi-notice-agree-button\"))\n",
    "    )\n",
    "    element.click()\n",
    "\n",
    "    time.sleep(1.5)\n",
    "    \n",
    "    element = WebDriverWait(driver, 10).until(\n",
    "        EC.presence_of_element_located((By.LINK_TEXT, 'Already have an account'))\n",
    "    )\n",
    "    element.click()\n",
    "\n",
    "    email = driver.find_element(By.NAME, 'email')\n",
    "    email.send_keys('')\n",
    "\n",
    "    password = driver.find_element(By.NAME, 'password')\n",
    "    password.send_keys('')\n",
    "\n",
    "    log_in = driver.find_element(By.TAG_NAME, 'button')\n",
    "    log_in.click()\n",
    "\n",
    "\n",
    "except:\n",
    "    print('Something broke')"
   ]
  },
  {
   "cell_type": "code",
   "execution_count": null,
   "metadata": {},
   "outputs": [],
   "source": []
  }
 ],
 "metadata": {
  "kernelspec": {
   "display_name": "Python (pipx pandas)",
   "language": "python",
   "name": "pandas-env"
  },
  "language_info": {
   "codemirror_mode": {
    "name": "ipython",
    "version": 3
   },
   "file_extension": ".py",
   "mimetype": "text/x-python",
   "name": "python",
   "nbconvert_exporter": "python",
   "pygments_lexer": "ipython3",
   "version": "3.12.5"
  }
 },
 "nbformat": 4,
 "nbformat_minor": 2
}
