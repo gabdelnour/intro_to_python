{
 "cells": [
  {
   "cell_type": "code",
   "execution_count": 1,
   "metadata": {},
   "outputs": [],
   "source": [
    "def is_vowel_or_consonant(character):\n",
    "    if character in 'aeiou':\n",
    "        return 'Vowel'\n",
    "    else:\n",
    "        return 'Consonant'"
   ]
  },
  {
   "cell_type": "code",
   "execution_count": 2,
   "id": "d5ccf653",
   "metadata": {},
   "outputs": [],
   "source": [
    "def length_of_last_word(sentence):\n",
    "    words = sentence.strip().split()\n",
    "    if words:\n",
    "        return len(words[-1])\n",
    "    else:\n",
    "        return 0"
   ]
  },
  {
   "cell_type": "code",
   "execution_count": 3,
   "id": "d1d41e4c",
   "metadata": {},
   "outputs": [],
   "source": [
    "def count_senior_citizens(p):\n",
    "    count = 0\n",
    "    for passenger in p:\n",
    "        if int(passenger[11:13]) > 60:\n",
    "            count += 1\n",
    "    return count"
   ]
  },
  {
   "cell_type": "code",
   "execution_count": 4,
   "id": "c18da56d",
   "metadata": {},
   "outputs": [],
   "source": [
    "def truncate_sentence(s,k):\n",
    "    sentence_arr = s.strip().split()[:k]\n",
    "    return ' '.join(str(x) for x in sentence_arr)"
   ]
  },
  {
   "cell_type": "code",
   "execution_count": 5,
   "id": "c658200c",
   "metadata": {},
   "outputs": [],
   "source": [
    "def divisible_by_k(t, k):\n",
    "    result = [sublist for sublist in t if all(element % k == 0 for element in sublist)]\n",
    "    return result"
   ]
  },
  {
   "cell_type": "code",
   "execution_count": null,
   "id": "f467ffd6",
   "metadata": {},
   "outputs": [],
   "source": [
    "def count_substrings(s, substr):\n",
    "    count = 0\n",
    "    start = 0\n",
    "\n",
    "    while start < len(s):\n",
    "        pos = s.find(substr, start)\n",
    "\n",
    "        if pos != -1:\n",
    "            start = pos + 1\n",
    "            count += 1\n",
    "        else:\n",
    "            break\n",
    "    return count"
   ]
  },
  {
   "cell_type": "code",
   "execution_count": 11,
   "id": "7424e525",
   "metadata": {},
   "outputs": [
    {
     "data": {
      "text/plain": [
       "'World Hello'"
      ]
     },
     "execution_count": 11,
     "metadata": {},
     "output_type": "execute_result"
    }
   ],
   "source": [
    "def reverse_words(s):\n",
    "    reverse = s.strip().split()\n",
    "    reverse = reverse[::-1]\n",
    "    return \" \".join(reverse)\n",
    "\n",
    "reverse_words('Hello World')"
   ]
  },
  {
   "cell_type": "code",
   "execution_count": 12,
   "id": "30c75cc1",
   "metadata": {},
   "outputs": [],
   "source": [
    "def reverse_array(nums):\n",
    "    return nums[::-1]"
   ]
  },
  {
   "cell_type": "code",
   "execution_count": 17,
   "id": "7af0e860",
   "metadata": {},
   "outputs": [
    {
     "data": {
      "text/plain": [
       "'edcba'"
      ]
     },
     "execution_count": 17,
     "metadata": {},
     "output_type": "execute_result"
    }
   ],
   "source": [
    "\n",
    "def restore_string(s, indices):\n",
    "    new_arr = []\n",
    "    for num in indices:\n",
    "        new_arr.append(s[num])\n",
    "    return ''.join(new_arr)\n",
    "\n",
    "restore_string(\"abcde\", [4, 3, 2, 1, 0])"
   ]
  },
  {
   "cell_type": "code",
   "execution_count": 24,
   "id": "3fd784b5",
   "metadata": {},
   "outputs": [],
   "source": [
    "listOne  =  ['a', 'b', 'c', 'd']\n",
    "listTwo =  ['e', 'f', 'g']\n",
    "newList = listOne.extend(listTwo)"
   ]
  },
  {
   "cell_type": "code",
   "execution_count": 25,
   "id": "04f14586",
   "metadata": {},
   "outputs": [
    {
     "name": "stdout",
     "output_type": "stream",
     "text": [
      "None\n"
     ]
    }
   ],
   "source": [
    "print(newList)"
   ]
  },
  {
   "cell_type": "code",
   "execution_count": null,
   "id": "731a2a64",
   "metadata": {},
   "outputs": [],
   "source": []
  }
 ],
 "metadata": {
  "kernelspec": {
   "display_name": "Python (pipx pandas)",
   "language": "python",
   "name": "pandas-env"
  },
  "language_info": {
   "codemirror_mode": {
    "name": "ipython",
    "version": 3
   },
   "file_extension": ".py",
   "mimetype": "text/x-python",
   "name": "python",
   "nbconvert_exporter": "python",
   "pygments_lexer": "ipython3",
   "version": "3.12.4"
  }
 },
 "nbformat": 4,
 "nbformat_minor": 5
}
