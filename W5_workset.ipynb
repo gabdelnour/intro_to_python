{
 "cells": [
  {
   "cell_type": "code",
   "execution_count": 4,
   "metadata": {},
   "outputs": [
    {
     "data": {
      "text/plain": [
       "['asmdhnbfm', 'ksdjfhbg', 'skdj', 'as']"
      ]
     },
     "execution_count": 4,
     "metadata": {},
     "output_type": "execute_result"
    }
   ],
   "source": [
    "def list_of_string_sorter(list_strings):\n",
    "    return sorted(list_strings, key=len, reverse=True)\n",
    "\n",
    "list_of_string_sorter(['skdj', 'asmdhnbfm', 'as', 'ksdjfhbg'])"
   ]
  },
  {
   "cell_type": "code",
   "execution_count": 48,
   "metadata": {},
   "outputs": [],
   "source": [
    "def divide():\n",
    "    num1 = input('Please select a number: ')\n",
    "    num2 = input('Please select another number: ')\n",
    "    try:\n",
    "        num1, num2 = float(num1), float(num2)\n",
    "        result = num1 / num2\n",
    "    except ValueError:\n",
    "        print('Error: Please enter valid numbers.')\n",
    "    except ZeroDivisionError:\n",
    "        print('Error: Cannot divide by 0')\n",
    "    else:\n",
    "        print(result)\n",
    "    finally:\n",
    "        print('Thank you for calling the divide func!') #finally is also good to close resources, disconnect from a database, api, etc\n"
   ]
  },
  {
   "cell_type": "code",
   "execution_count": 51,
   "metadata": {},
   "outputs": [
    {
     "name": "stdout",
     "output_type": "stream",
     "text": [
      "2.55\n"
     ]
    }
   ],
   "source": [
    "divide()"
   ]
  },
  {
   "cell_type": "code",
   "execution_count": null,
   "metadata": {},
   "outputs": [],
   "source": [
    "import json\n",
    "\n",
    "with open('data.json', 'r') as f:\n",
    "    data = json.load(f)\n",
    "\n",
    "print(data)"
   ]
  },
  {
   "cell_type": "markdown",
   "metadata": {},
   "source": [
    "\n",
    "a)Write a Python program to create a decorator to convert the return value of a function to a specified data type."
   ]
  },
  {
   "cell_type": "code",
   "execution_count": null,
   "metadata": {},
   "outputs": [],
   "source": [
    "def convert_to_data_type(data_type):\n",
    "    def decorator(func):\n",
    "        def wrapper(*args, **kwargs):\n",
    "            # Call the original function\n",
    "            result = func(*args, **kwargs)\n",
    "            # Convert the result to the specified data type\n",
    "            return data_type(result)\n",
    "        return wrapper\n",
    "    return decorator\n",
    "\n",
    "@convert_to_data_type(int)\n",
    "def add_numbers(x, y):\n",
    "    return x + y\n",
    "\n",
    "result = add_numbers(10, 20)\n",
    "print(\"Result:\", result, type(result))\n",
    "\n",
    "@convert_to_data_type(str)\n",
    "def concatenate_strings(x, y):\n",
    "    return x + y\n",
    "\n",
    "result = concatenate_strings(\"Python\", \" Decorator\")\n",
    "print(\"Result:\", result, type(result))"
   ]
  },
  {
   "cell_type": "markdown",
   "metadata": {},
   "source": [
    "b)Write a Python program to return the JSON representation of given Python object."
   ]
  },
  {
   "cell_type": "code",
   "execution_count": 4,
   "metadata": {},
   "outputs": [
    {
     "name": "stdout",
     "output_type": "stream",
     "text": [
      "{\"4\": 5, \"6\": 7, \"1\": 3, \"2\": 4}\n"
     ]
    }
   ],
   "source": [
    "import json\n",
    "j_str = {'4': 5, '6': 7, '1': 3, '2': 4}\n",
    "\n",
    "j_str = json.dumps(j_str)\n",
    "\n",
    "print(j_str)"
   ]
  },
  {
   "cell_type": "code",
   "execution_count": null,
   "metadata": {},
   "outputs": [],
   "source": []
  }
 ],
 "metadata": {
  "kernelspec": {
   "display_name": "Python (pipx pandas)",
   "language": "python",
   "name": "pandas-env"
  },
  "language_info": {
   "codemirror_mode": {
    "name": "ipython",
    "version": 3
   },
   "file_extension": ".py",
   "mimetype": "text/x-python",
   "name": "python",
   "nbconvert_exporter": "python",
   "pygments_lexer": "ipython3",
   "version": "3.12.5"
  }
 },
 "nbformat": 4,
 "nbformat_minor": 2
}
