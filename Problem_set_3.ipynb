{
 "cells": [
  {
   "cell_type": "code",
   "execution_count": 20,
   "metadata": {},
   "outputs": [],
   "source": [
    "\n",
    "def find_first_occurrence(s, to_find):\n",
    "    return s.find(to_find)\n"
   ]
  },
  {
   "cell_type": "code",
   "execution_count": 21,
   "metadata": {},
   "outputs": [
    {
     "data": {
      "text/plain": [
       "-1"
      ]
     },
     "execution_count": 21,
     "metadata": {},
     "output_type": "execute_result"
    }
   ],
   "source": [
    "find_first_occurrence('e', \"hello\")"
   ]
  },
  {
   "cell_type": "code",
   "execution_count": 22,
   "metadata": {},
   "outputs": [],
   "source": [
    "def pair_sum_sorted_array(numbers, target):\n",
    "    \"\"\"\n",
    "    Args:\n",
    "     numbers(list_int32): A sorted list of integers.\n",
    "     target(int32): The target sum.\n",
    "    Returns:\n",
    "     list_int32: A list containing the indices of the pair of numbers that add up to the target, or [-1, -1] if no such pair exists.\n",
    "    \"\"\"\n",
    "    # Iterate over each number in the array\n",
    "    for i in range(len(numbers)):\n",
    "        # For each number, iterate over the rest of the numbers in the array\n",
    "        for j in range(i+1, len(numbers)):\n",
    "            # If the two numbers add up to the target, return their indices\n",
    "            if numbers[i] + numbers[j] == target:\n",
    "                return [i, j]\n",
    "    # If no pair of numbers add up to the target, return [-1, -1]\n",
    "    return [-1, -1]"
   ]
  },
  {
   "cell_type": "code",
   "execution_count": 59,
   "metadata": {},
   "outputs": [],
   "source": [
    "\n",
    "def majority_element(nums):\n",
    "    num_counter = {}\n",
    "    for num in nums:\n",
    "        if num not in list(num_counter.keys()):\n",
    "            num_counter[num] = 1\n",
    "        else:\n",
    "            num_counter[num] += 1\n",
    "    \n",
    "    return max(num_counter, key=lambda key: num_counter[key])\n"
   ]
  },
  {
   "cell_type": "code",
   "execution_count": 60,
   "metadata": {},
   "outputs": [
    {
     "data": {
      "text/plain": [
       "3"
      ]
     },
     "execution_count": 60,
     "metadata": {},
     "output_type": "execute_result"
    }
   ],
   "source": [
    "majority_element([6,3,3,3,2,2,1,5,1])"
   ]
  },
  {
   "cell_type": "code",
   "execution_count": null,
   "metadata": {},
   "outputs": [],
   "source": [
    "def check_if_array_contains_duplicate(nums):\n",
    "    num_counter = {}\n",
    "    for num in nums:\n",
    "        if num not in list(num_counter.keys()):\n",
    "            num_counter[num] = 1\n",
    "        elif num in list(num_counter.keys()):\n",
    "            return True\n",
    "        else: \n",
    "            return False\n"
   ]
  },
  {
   "cell_type": "markdown",
   "metadata": {},
   "source": [
    "Intersection Of Two Sorted Arrays\n",
    "Given two integer arrays sorted in non-decreasing order, find the intersection of both the arrays.\n",
    "\n"
   ]
  },
  {
   "cell_type": "code",
   "execution_count": 67,
   "metadata": {},
   "outputs": [],
   "source": [
    "def get_intersection(numbers1, numbers2):\n",
    "    intersection =  list(set(numbers1).intersection(set(numbers2)))\n",
    "    if len(intersection) > 0:\n",
    "        intersection.sort()\n",
    "        return intersection\n",
    "    else:\n",
    "        return [-1]\n",
    "    \n",
    "##This one did not get through all the cases.."
   ]
  },
  {
   "cell_type": "code",
   "execution_count": 68,
   "metadata": {},
   "outputs": [
    {
     "data": {
      "text/plain": [
       "[2, 7]"
      ]
     },
     "execution_count": 68,
     "metadata": {},
     "output_type": "execute_result"
    }
   ],
   "source": [
    "get_intersection([1, 2, 2, 6, 7], [2, 2, 7, 7])"
   ]
  },
  {
   "cell_type": "markdown",
   "metadata": {},
   "source": [
    "Single Number\n",
    "Given a list of numbers in which each number appears exactly twice except one number that appears only once. Find the number that appears exactly once.\n",
    "(Try solving this in linear time complexity without using any extra space!)"
   ]
  },
  {
   "cell_type": "code",
   "execution_count": 72,
   "metadata": {},
   "outputs": [],
   "source": [
    "def single_number(arr):\n",
    "    my_set = set()\n",
    "\n",
    "    for i in arr:\n",
    "        if i in my_set:\n",
    "            my_set.remove(i)\n",
    "        else:\n",
    "            my_set.add(i)\n",
    "    \n",
    "    for item in my_set:\n",
    "        return item\n"
   ]
  },
  {
   "cell_type": "code",
   "execution_count": 73,
   "metadata": {},
   "outputs": [
    {
     "data": {
      "text/plain": [
       "5"
      ]
     },
     "execution_count": 73,
     "metadata": {},
     "output_type": "execute_result"
    }
   ],
   "source": [
    "single_number([2, 1, 2, 5, 1])"
   ]
  },
  {
   "cell_type": "markdown",
   "metadata": {},
   "source": [
    "Squares Of A Sorted Array\n",
    "Given an array of numbers sorted in increasing order, generate another array containing the square of all the elements in the given array, sorted in increasing order."
   ]
  },
  {
   "cell_type": "code",
   "execution_count": 1,
   "metadata": {},
   "outputs": [],
   "source": [
    "def generate_sorted_array_of_squares(numbers):\n",
    "    squared_arr = list(map(lambda x: x **2, numbers))\n",
    "    squared_arr.sort()\n",
    "    return squared_arr"
   ]
  },
  {
   "cell_type": "markdown",
   "metadata": {},
   "source": [
    "Find Winner Of Election\n",
    "Given a list of votes, containing names of candidates in an election, find which candidate received maximum number of votes. If two or more candidate got the same number of votes, return the lexicographically smaller name."
   ]
  },
  {
   "cell_type": "code",
   "execution_count": 5,
   "metadata": {},
   "outputs": [],
   "source": [
    "def find_winner(votes):\n",
    "    winner_dict = {}\n",
    "    for candidate in votes:\n",
    "        if candidate not in winner_dict.keys():\n",
    "            winner_dict[candidate] = 1\n",
    "        else:\n",
    "            winner_dict[candidate] += 1\n",
    "    \n",
    "    max_votes = 0\n",
    "    winner = ''\n",
    "\n",
    "    for candidate, count in winner_dict.items():\n",
    "        if count > max_votes or (count == max_votes and len(candidate) < len(winner)):\n",
    "            max_votes = count\n",
    "            winner = candidate\n",
    "    return winner"
   ]
  },
  {
   "cell_type": "code",
   "execution_count": 8,
   "metadata": {},
   "outputs": [
    {
     "data": {
      "text/plain": [
       "'john'"
      ]
     },
     "execution_count": 8,
     "metadata": {},
     "output_type": "execute_result"
    }
   ],
   "source": [
    "find_winner([\"john\", \"john\", \"sam\", \"sam\"])"
   ]
  },
  {
   "cell_type": "code",
   "execution_count": null,
   "metadata": {},
   "outputs": [],
   "source": [
    "def find_winner(votes):\n",
    "    # Create a dictionary to store vote counts\n",
    "    vote_count = {}\n",
    "    \n",
    "    # Count the votes for each candidate\n",
    "    for candidate in votes:\n",
    "        if candidate in vote_count:\n",
    "            vote_count[candidate] += 1\n",
    "        else:\n",
    "            vote_count[candidate] = 1\n",
    "    \n",
    "    # Initialize variables to track the candidate with max votes and the minimum lexicographical name\n",
    "    max_votes = 0\n",
    "    winner = \"\"\n",
    "    \n",
    "    # Find the candidate with the maximum votes and handle ties lexicographically\n",
    "    for candidate, count in vote_count.items():\n",
    "        if count > max_votes or (count == max_votes and candidate < winner):\n",
    "            max_votes = count\n",
    "            winner = candidate\n",
    "    \n",
    "    return winner"
   ]
  },
  {
   "cell_type": "code",
   "execution_count": 11,
   "metadata": {},
   "outputs": [
    {
     "name": "stdout",
     "output_type": "stream",
     "text": [
      "{3}\n"
     ]
    }
   ],
   "source": [
    "set1 = {2,5,3}\n",
    "set2 = {3,1}\n",
    "set3 = {}\n",
    "set3=set1&set2\n",
    "print(set3)"
   ]
  },
  {
   "cell_type": "code",
   "execution_count": 17,
   "metadata": {},
   "outputs": [
    {
     "name": "stdout",
     "output_type": "stream",
     "text": [
      "{'brand': 'Ford', 'model': 'Mustang', 'year': 1964, 'type': 0}\n"
     ]
    }
   ],
   "source": [
    "car = {\n",
    "  \"brand\": \"Ford\",\n",
    "  \"model\": \"Mustang\",\n",
    "  \"year\": 1964\n",
    "}\n",
    "\n",
    "car['type'] = car.get(\"type\", 0)\n",
    "\n",
    "print(car)"
   ]
  },
  {
   "cell_type": "code",
   "execution_count": 19,
   "metadata": {},
   "outputs": [
    {
     "name": "stdout",
     "output_type": "stream",
     "text": [
      "(0, 'H')\n",
      "(1, 'e')\n",
      "(2, 'l')\n",
      "(3, 'l')\n",
      "(4, 'o')\n",
      "(5, ' ')\n",
      "(6, 'W')\n",
      "(7, 'o')\n",
      "(8, 'r')\n",
      "(9, 'l')\n",
      "(10, 'd')\n"
     ]
    }
   ],
   "source": [
    "for i in enumerate(\"Hello World\"):\n",
    "    print(i)"
   ]
  },
  {
   "cell_type": "code",
   "execution_count": 21,
   "metadata": {},
   "outputs": [
    {
     "name": "stdout",
     "output_type": "stream",
     "text": [
      "97\n",
      "98\n"
     ]
    }
   ],
   "source": [
    "print(ord('a'))\n",
    "print(ord('b'))\n",
    "\n"
   ]
  },
  {
   "cell_type": "code",
   "execution_count": null,
   "metadata": {},
   "outputs": [],
   "source": []
  }
 ],
 "metadata": {
  "kernelspec": {
   "display_name": "Python (pipx pandas)",
   "language": "python",
   "name": "pandas-env"
  },
  "language_info": {
   "codemirror_mode": {
    "name": "ipython",
    "version": 3
   },
   "file_extension": ".py",
   "mimetype": "text/x-python",
   "name": "python",
   "nbconvert_exporter": "python",
   "pygments_lexer": "ipython3",
   "version": "3.12.4"
  }
 },
 "nbformat": 4,
 "nbformat_minor": 2
}
