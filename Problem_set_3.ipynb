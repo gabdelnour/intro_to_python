{
 "cells": [
  {
   "cell_type": "code",
   "execution_count": 20,
   "metadata": {},
   "outputs": [],
   "source": [
    "\n",
    "def find_first_occurrence(s, to_find):\n",
    "    return s.find(to_find)\n"
   ]
  },
  {
   "cell_type": "code",
   "execution_count": 21,
   "metadata": {},
   "outputs": [
    {
     "data": {
      "text/plain": [
       "-1"
      ]
     },
     "execution_count": 21,
     "metadata": {},
     "output_type": "execute_result"
    }
   ],
   "source": [
    "find_first_occurrence('e', \"hello\")"
   ]
  },
  {
   "cell_type": "code",
   "execution_count": 22,
   "metadata": {},
   "outputs": [],
   "source": [
    "def pair_sum_sorted_array(numbers, target):\n",
    "    \"\"\"\n",
    "    Args:\n",
    "     numbers(list_int32): A sorted list of integers.\n",
    "     target(int32): The target sum.\n",
    "    Returns:\n",
    "     list_int32: A list containing the indices of the pair of numbers that add up to the target, or [-1, -1] if no such pair exists.\n",
    "    \"\"\"\n",
    "    # Iterate over each number in the array\n",
    "    for i in range(len(numbers)):\n",
    "        # For each number, iterate over the rest of the numbers in the array\n",
    "        for j in range(i+1, len(numbers)):\n",
    "            # If the two numbers add up to the target, return their indices\n",
    "            if numbers[i] + numbers[j] == target:\n",
    "                return [i, j]\n",
    "    # If no pair of numbers add up to the target, return [-1, -1]\n",
    "    return [-1, -1]"
   ]
  },
  {
   "cell_type": "code",
   "execution_count": 59,
   "metadata": {},
   "outputs": [],
   "source": [
    "\n",
    "def majority_element(nums):\n",
    "    num_counter = {}\n",
    "    for num in nums:\n",
    "        if num not in list(num_counter.keys()):\n",
    "            num_counter[num] = 1\n",
    "        else:\n",
    "            num_counter[num] += 1\n",
    "    \n",
    "    return max(num_counter, key=lambda key: num_counter[key])\n"
   ]
  },
  {
   "cell_type": "code",
   "execution_count": 60,
   "metadata": {},
   "outputs": [
    {
     "data": {
      "text/plain": [
       "3"
      ]
     },
     "execution_count": 60,
     "metadata": {},
     "output_type": "execute_result"
    }
   ],
   "source": [
    "majority_element([6,3,3,3,2,2,1,5,1])"
   ]
  },
  {
   "cell_type": "code",
   "execution_count": null,
   "metadata": {},
   "outputs": [],
   "source": [
    "def check_if_array_contains_duplicate(nums):\n",
    "    num_counter = {}\n",
    "    for num in nums:\n",
    "        if num not in list(num_counter.keys()):\n",
    "            num_counter[num] = 1\n",
    "        elif num in list(num_counter.keys()):\n",
    "            return True\n",
    "        else: \n",
    "            return False\n"
   ]
  },
  {
   "cell_type": "markdown",
   "metadata": {},
   "source": [
    "Intersection Of Two Sorted Arrays\n",
    "Given two integer arrays sorted in non-decreasing order, find the intersection of both the arrays.\n",
    "\n"
   ]
  },
  {
   "cell_type": "code",
   "execution_count": 67,
   "metadata": {},
   "outputs": [],
   "source": [
    "def get_intersection(numbers1, numbers2):\n",
    "    intersection =  list(set(numbers1).intersection(set(numbers2)))\n",
    "    if len(intersection) > 0:\n",
    "        intersection.sort()\n",
    "        return intersection\n",
    "    else:\n",
    "        return [-1]\n",
    "    \n",
    "##This one did not get through all the cases.."
   ]
  },
  {
   "cell_type": "code",
   "execution_count": 68,
   "metadata": {},
   "outputs": [
    {
     "data": {
      "text/plain": [
       "[2, 7]"
      ]
     },
     "execution_count": 68,
     "metadata": {},
     "output_type": "execute_result"
    }
   ],
   "source": [
    "get_intersection([1, 2, 2, 6, 7], [2, 2, 7, 7])"
   ]
  },
  {
   "cell_type": "markdown",
   "metadata": {},
   "source": [
    "Single Number\n",
    "Given a list of numbers in which each number appears exactly twice except one number that appears only once. Find the number that appears exactly once.\n",
    "(Try solving this in linear time complexity without using any extra space!)"
   ]
  },
  {
   "cell_type": "code",
   "execution_count": 72,
   "metadata": {},
   "outputs": [],
   "source": [
    "def single_number(arr):\n",
    "    my_set = set()\n",
    "\n",
    "    for i in arr:\n",
    "        if i in my_set:\n",
    "            my_set.remove(i)\n",
    "        else:\n",
    "            my_set.add(i)\n",
    "    \n",
    "    for item in my_set:\n",
    "        return item\n"
   ]
  },
  {
   "cell_type": "code",
   "execution_count": 73,
   "metadata": {},
   "outputs": [
    {
     "data": {
      "text/plain": [
       "5"
      ]
     },
     "execution_count": 73,
     "metadata": {},
     "output_type": "execute_result"
    }
   ],
   "source": [
    "single_number([2, 1, 2, 5, 1])"
   ]
  },
  {
   "cell_type": "code",
   "execution_count": null,
   "metadata": {},
   "outputs": [],
   "source": []
  }
 ],
 "metadata": {
  "kernelspec": {
   "display_name": "Python (pipx pandas)",
   "language": "python",
   "name": "pandas-env"
  },
  "language_info": {
   "codemirror_mode": {
    "name": "ipython",
    "version": 3
   },
   "file_extension": ".py",
   "mimetype": "text/x-python",
   "name": "python",
   "nbconvert_exporter": "python",
   "pygments_lexer": "ipython3",
   "version": "3.12.4"
  }
 },
 "nbformat": 4,
 "nbformat_minor": 2
}
