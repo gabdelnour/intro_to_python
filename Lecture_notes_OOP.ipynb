{
 "cells": [
  {
   "cell_type": "code",
   "execution_count": 3,
   "metadata": {},
   "outputs": [
    {
     "name": "stdout",
     "output_type": "stream",
     "text": [
      "<__main__.Person object at 0x107d22cf0>\n",
      "Hello, my name is John\n",
      "None\n"
     ]
    }
   ],
   "source": [
    "class Person:\n",
    "    x = 5\n",
    "    name = 'harry'\n",
    "    age = 26\n",
    "\n",
    "    def __init__(self, name, age):\n",
    "        self.name = name\n",
    "        self.age = age\n",
    "    \n",
    "    def greet(self):\n",
    "        print(f'Hello, my name is {self.name}')\n",
    "\n",
    "    def say_age(self):\n",
    "        print(f'My age is {self.age}')\n",
    "\n",
    "p1 = Person('John', 36)\n",
    "print(p1)\n",
    "print(Person('John', 36).greet())\n"
   ]
  },
  {
   "cell_type": "code",
   "execution_count": 4,
   "metadata": {},
   "outputs": [
    {
     "name": "stdout",
     "output_type": "stream",
     "text": [
      "Circle area: 78.5\n",
      "Rectangle area: 60\n"
     ]
    }
   ],
   "source": [
    "from abc import ABC, abstractmethod\n",
    "#importing abstract base class from ABC\n",
    "\n",
    "class Shape(ABC):\n",
    "    @abstractmethod\n",
    "    def area(self):\n",
    "        pass\n",
    "\n",
    "class Circle(Shape):\n",
    "    def __init__(self, radius):\n",
    "        self.radius = radius\n",
    "    \n",
    "    def area(self):\n",
    "        return 3.14 * self.radius ** 2\n",
    "\n",
    "class Rectangle(Shape):\n",
    "    def __init__(self, length, width):\n",
    "        self.length = length\n",
    "        self. width = width\n",
    "\n",
    "    def area(self):\n",
    "        return self.length * self.width\n",
    "\n",
    "circle = Circle(5)\n",
    "rectangle = Rectangle(5, 12)\n",
    "\n",
    "print(f\"Circle area: {circle.area()}\")\n",
    "print(f\"Rectangle area: {rectangle.area()}\")"
   ]
  },
  {
   "cell_type": "code",
   "execution_count": 5,
   "metadata": {},
   "outputs": [],
   "source": [
    "class Account(ABC):\n",
    "    @abstractmethod\n",
    "    def get_name(self):\n",
    "        pass\n",
    "\n",
    "    @abstractmethod\n",
    "    def get_balance(self):\n",
    "        pass\n",
    "\n",
    "    @abstractmethod\n",
    "    def get_address(self):\n",
    "        pass\n",
    "\n",
    "    @abstractmethod\n",
    "    def get_account_number(self):\n",
    "        pass\n",
    "\n",
    "class SavingsAcount(Account):\n",
    "    def __init__(self, name, balance, address, account_number):\n",
    "        self.name = name\n",
    "        self.balance = balance\n",
    "        self.address = address\n",
    "        self.account_number = account_number\n",
    "\n",
    "    def get_name(self):\n",
    "        return self.name\n",
    "    def get_balance(self):\n",
    "        return self.balance\n",
    "    def get_address(self):\n",
    "        return self.address\n",
    "    def get_account_number(self):\n",
    "        return self.account_number"
   ]
  },
  {
   "cell_type": "code",
   "execution_count": 6,
   "metadata": {},
   "outputs": [],
   "source": [
    "s1 = SavingsAcount('Gustavo', '10,000,000', '455 NE', 19534)"
   ]
  },
  {
   "cell_type": "code",
   "execution_count": 7,
   "metadata": {},
   "outputs": [
    {
     "data": {
      "text/plain": [
       "19534"
      ]
     },
     "execution_count": 7,
     "metadata": {},
     "output_type": "execute_result"
    }
   ],
   "source": [
    "s1.get_account_number()"
   ]
  },
  {
   "cell_type": "code",
   "execution_count": 8,
   "metadata": {},
   "outputs": [
    {
     "data": {
      "text/plain": [
       "(__main__.SavingsAcount, __main__.Account, abc.ABC, object)"
      ]
     },
     "execution_count": 8,
     "metadata": {},
     "output_type": "execute_result"
    }
   ],
   "source": [
    "SavingsAcount.__mro__"
   ]
  },
  {
   "cell_type": "code",
   "execution_count": null,
   "metadata": {},
   "outputs": [],
   "source": []
  }
 ],
 "metadata": {
  "kernelspec": {
   "display_name": "Python (pipx pandas)",
   "language": "python",
   "name": "pandas-env"
  },
  "language_info": {
   "codemirror_mode": {
    "name": "ipython",
    "version": 3
   },
   "file_extension": ".py",
   "mimetype": "text/x-python",
   "name": "python",
   "nbconvert_exporter": "python",
   "pygments_lexer": "ipython3",
   "version": "3.12.5"
  }
 },
 "nbformat": 4,
 "nbformat_minor": 2
}
